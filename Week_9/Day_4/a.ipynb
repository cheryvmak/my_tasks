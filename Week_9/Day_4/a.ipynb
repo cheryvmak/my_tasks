{
 "cells": [
  {
   "cell_type": "code",
   "execution_count": null,
   "id": "2acc1e71",
   "metadata": {},
   "outputs": [],
   "source": [
    "import numpy as np\n",
    "import pandas as pd\n",
    "import matplotlib.pyplot as plt\n",
    "import scipy.stats as stats"
   ]
  },
  {
   "cell_type": "markdown",
   "id": "7a9c6ac6",
   "metadata": {},
   "source": [
    "You can extract your data directly from the path of the file "
   ]
  },
  {
   "cell_type": "code",
   "execution_count": null,
   "id": "ed6f9f46",
   "metadata": {},
   "outputs": [],
   "source": [
    "path = "
   ]
  }
 ],
 "metadata": {
  "language_info": {
   "name": "python"
  }
 },
 "nbformat": 4,
 "nbformat_minor": 5
}
