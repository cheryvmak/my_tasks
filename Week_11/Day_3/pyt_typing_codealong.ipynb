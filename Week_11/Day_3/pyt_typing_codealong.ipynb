{
 "cells": [
  {
   "cell_type": "code",
   "execution_count": 1,
   "id": "daf18990",
   "metadata": {},
   "outputs": [],
   "source": [
    "def get_fellows_names(fellow: list[str]) -> list[str]:\n",
    "    return fellow"
   ]
  },
  {
   "cell_type": "code",
   "execution_count": 2,
   "id": "7a83b2a8",
   "metadata": {},
   "outputs": [],
   "source": [
    "def get_average(name: str, scores: list[float]) -> float:\n",
    "    average_score = sum(scores)/len(scores)\n",
    "    print(f\"{name}'s average score is {average_score}\")\n",
    "    return average_score    "
   ]
  },
  {
   "cell_type": "code",
   "execution_count": 3,
   "id": "bdb44777",
   "metadata": {},
   "outputs": [],
   "source": [
    "from typing import List, Dict, Union, Optional\n",
    "\n",
    "\n",
    "def process_scores(\n",
    "        scores: List[int],\n",
    "        info: Dict[str,Union[int,float]],\n",
    "        comment: Optional[str] = None)-> None: #incase it is available, use it if it is not return nothing.\n",
    "         print(\"Scores:\",scores)\n",
    "         print(\"Info:\",info)\n",
    "         if comment:\n",
    "                 print(\"Comment:\", comment)"
   ]
  },
  {
   "cell_type": "code",
   "execution_count": 4,
   "id": "71879e23",
   "metadata": {},
   "outputs": [],
   "source": [
    "from typing import Union\n",
    "def get_fellow_id(id: Union[int, str]) -> str: #expecting a str for output\n",
    "    return f\"fellow ID: {id}\""
   ]
  },
  {
   "cell_type": "code",
   "execution_count": 5,
   "id": "9c4b13b2",
   "metadata": {},
   "outputs": [
    {
     "name": "stdout",
     "output_type": "stream",
     "text": [
      "fellow ID: 42\n",
      "fellow ID: 42\n",
      "fellow ID: 42.0\n"
     ]
    }
   ],
   "source": [
    "print(get_fellow_id(42))\n",
    "print(get_fellow_id(\"42\"))\n",
    "print(get_fellow_id(42.0)) # 0ur IDE will flag it because it is not a string..."
   ]
  },
  {
   "cell_type": "code",
   "execution_count": 6,
   "id": "cf574244",
   "metadata": {},
   "outputs": [],
   "source": [
    "# Instead of union you can use pipe \"|\" - hold shift + backslash to get it\n",
    "\n",
    "def get_fellow_id(id: int | str) -> str:\n",
    "    return f\"fellow ID: {id}\"\n",
    "\n",
    "# same as\n",
    "\n",
    "def get_fellow_id(id: Union[int, str]) -> str:\n",
    "    return f\"fellow ID: {id}\""
   ]
  },
  {
   "cell_type": "code",
   "execution_count": 7,
   "id": "05db69c7",
   "metadata": {},
   "outputs": [],
   "source": [
    "from typing import Union\n",
    "\n",
    "def format_address(house_number: Union[int, str], street: str) -> str:\n",
    "    return f\"{house_number} {street}\"\n"
   ]
  },
  {
   "cell_type": "code",
   "execution_count": 8,
   "id": "d862ca2e",
   "metadata": {},
   "outputs": [
    {
     "name": "stdout",
     "output_type": "stream",
     "text": [
      "23 Ajelogo Street\n",
      "23B Ajelogo Street\n"
     ]
    }
   ],
   "source": [
    "print(format_address(23, \"Ajelogo Street\"))   # 23 Ajelogo Street\n",
    "print(format_address(\"23B\", \"Ajelogo Street\")) # 23B Ajelogo Street\n"
   ]
  },
  {
   "cell_type": "code",
   "execution_count": 9,
   "id": "29e3ff6d",
   "metadata": {},
   "outputs": [],
   "source": [
    "from typing  import Optional\n",
    "\n",
    "def greet(first_name: str, last_name:Optional[str] = None)-> None:\n",
    "    if last_name:\n",
    "        print(f\"Hello {first_name} {last_name}\")\n",
    "    else:\n",
    "        print(f\"Hello {first_name}\")"
   ]
  },
  {
   "cell_type": "code",
   "execution_count": 10,
   "id": "e610c40b",
   "metadata": {},
   "outputs": [
    {
     "name": "stdout",
     "output_type": "stream",
     "text": [
      "Hello Toyeebat Arike\n",
      "Hello Toyeebat\n"
     ]
    }
   ],
   "source": [
    "greet(\"Toyeebat\", \"Arike\")   \n",
    "greet(\"Toyeebat\")          \n"
   ]
  },
  {
   "cell_type": "code",
   "execution_count": 11,
   "id": "294e6ae5",
   "metadata": {},
   "outputs": [],
   "source": [
    "def find_user(username: str) -> Optional[dict]:\n",
    "    if username == \"admin\":\n",
    "        return {\"username\": \"admin\", \"role\": \"superuser\"}\n",
    "    return None\n"
   ]
  },
  {
   "cell_type": "code",
   "execution_count": 12,
   "id": "b7c34306",
   "metadata": {},
   "outputs": [
    {
     "data": {
      "text/plain": [
       "{'username': 'admin', 'role': 'superuser'}"
      ]
     },
     "execution_count": 12,
     "metadata": {},
     "output_type": "execute_result"
    }
   ],
   "source": [
    "find_user(\"admin\")"
   ]
  },
  {
   "cell_type": "code",
   "execution_count": 13,
   "id": "495e46c8",
   "metadata": {},
   "outputs": [],
   "source": [
    "find_user(\"user\")"
   ]
  },
  {
   "cell_type": "code",
   "execution_count": 14,
   "id": "73b43927",
   "metadata": {},
   "outputs": [],
   "source": [
    "from typing import Dict\n",
    "\n",
    "fellow_scores: Dict[str, int] = {\n",
    "    \"David\": 89,\n",
    "    \"Micheal\": 98\n",
    "}"
   ]
  },
  {
   "cell_type": "code",
   "execution_count": 15,
   "id": "c204ca59",
   "metadata": {},
   "outputs": [],
   "source": [
    "from typing import Tuple\n",
    "\n",
    "fellow: Tuple[str, int, str]= (\"Perpetual\",88,\"AI Engineering\")"
   ]
  },
  {
   "cell_type": "code",
   "execution_count": 16,
   "id": "0738c323",
   "metadata": {},
   "outputs": [],
   "source": [
    "from typing import Tuple\n",
    "\n",
    "def ai_fellow(fellow: Tuple[str, int]) -> str:\n",
    "    name, score = fellow\n",
    "    return f\"{name} scored {score} in the last exam.\""
   ]
  },
  {
   "cell_type": "code",
   "execution_count": 18,
   "id": "af27addf",
   "metadata": {},
   "outputs": [],
   "source": [
    "# importing pydantic\n",
    "from pydantic import BaseModel"
   ]
  },
  {
   "cell_type": "code",
   "execution_count": 20,
   "id": "092a2e31",
   "metadata": {},
   "outputs": [],
   "source": [
    "# Lets create a pydantic data model\n",
    "\n",
    "class Fellow(BaseModel):\n",
    "    name: str\n",
    "    score: int\n",
    "    track: str"
   ]
  },
  {
   "cell_type": "code",
   "execution_count": 21,
   "id": "481cb2aa",
   "metadata": {},
   "outputs": [
    {
     "data": {
      "text/plain": [
       "Fellow(name='Perpetual', score=88, track='AI Engineering')"
      ]
     },
     "execution_count": 21,
     "metadata": {},
     "output_type": "execute_result"
    }
   ],
   "source": [
    "# 1. Validation - It autmatically validates data passed to it\n",
    "\n",
    "Fellow(name=\"Perpetual\", score=88, track=\"AI Engineering\") # This will work fine"
   ]
  },
  {
   "cell_type": "code",
   "execution_count": 26,
   "id": "42d3905b",
   "metadata": {},
   "outputs": [
    {
     "ename": "ValidationError",
     "evalue": "1 validation error for Fellow\nscore\n  Input should be a valid integer, unable to parse string as an integer [type=int_parsing, input_value='eighty-seven', input_type=str]\n    For further information visit https://errors.pydantic.dev/2.12/v/int_parsing",
     "output_type": "error",
     "traceback": [
      "\u001b[31m---------------------------------------------------------------------------\u001b[39m",
      "\u001b[31mValidationError\u001b[39m                           Traceback (most recent call last)",
      "\u001b[36mCell\u001b[39m\u001b[36m \u001b[39m\u001b[32mIn[26]\u001b[39m\u001b[32m, line 1\u001b[39m\n\u001b[32m----> \u001b[39m\u001b[32m1\u001b[39m \u001b[43mFellow\u001b[49m\u001b[43m(\u001b[49m\u001b[43mname\u001b[49m\u001b[43m=\u001b[49m\u001b[43m \u001b[49m\u001b[33;43m\"\u001b[39;49m\u001b[33;43mZach\u001b[39;49m\u001b[33;43m\"\u001b[39;49m\u001b[43m,\u001b[49m\u001b[43m \u001b[49m\u001b[43mscore\u001b[49m\u001b[43m \u001b[49m\u001b[43m=\u001b[49m\u001b[43m \u001b[49m\u001b[33;43m\"\u001b[39;49m\u001b[33;43meighty-seven\u001b[39;49m\u001b[33;43m\"\u001b[39;49m\u001b[43m,\u001b[49m\u001b[43m \u001b[49m\u001b[43mtrack\u001b[49m\u001b[43m=\u001b[49m\u001b[33;43m\"\u001b[39;49m\u001b[33;43mAI Engineering\u001b[39;49m\u001b[33;43m\"\u001b[39;49m\u001b[43m)\u001b[49m \u001b[38;5;66;03m# This will raise error\u001b[39;00m\n",
      "\u001b[36mFile \u001b[39m\u001b[32mc:\\Users\\ncc777\\AppData\\Local\\Programs\\Python\\Python313\\Lib\\site-packages\\pydantic\\main.py:250\u001b[39m, in \u001b[36mBaseModel.__init__\u001b[39m\u001b[34m(self, **data)\u001b[39m\n\u001b[32m    248\u001b[39m \u001b[38;5;66;03m# `__tracebackhide__` tells pytest and some other tools to omit this function from tracebacks\u001b[39;00m\n\u001b[32m    249\u001b[39m __tracebackhide__ = \u001b[38;5;28;01mTrue\u001b[39;00m\n\u001b[32m--> \u001b[39m\u001b[32m250\u001b[39m validated_self = \u001b[38;5;28;43mself\u001b[39;49m\u001b[43m.\u001b[49m\u001b[43m__pydantic_validator__\u001b[49m\u001b[43m.\u001b[49m\u001b[43mvalidate_python\u001b[49m\u001b[43m(\u001b[49m\u001b[43mdata\u001b[49m\u001b[43m,\u001b[49m\u001b[43m \u001b[49m\u001b[43mself_instance\u001b[49m\u001b[43m=\u001b[49m\u001b[38;5;28;43mself\u001b[39;49m\u001b[43m)\u001b[49m\n\u001b[32m    251\u001b[39m \u001b[38;5;28;01mif\u001b[39;00m \u001b[38;5;28mself\u001b[39m \u001b[38;5;129;01mis\u001b[39;00m \u001b[38;5;129;01mnot\u001b[39;00m validated_self:\n\u001b[32m    252\u001b[39m     warnings.warn(\n\u001b[32m    253\u001b[39m         \u001b[33m'\u001b[39m\u001b[33mA custom validator is returning a value other than `self`.\u001b[39m\u001b[38;5;130;01m\\n\u001b[39;00m\u001b[33m'\u001b[39m\n\u001b[32m    254\u001b[39m         \u001b[33m\"\u001b[39m\u001b[33mReturning anything other than `self` from a top level model validator isn\u001b[39m\u001b[33m'\u001b[39m\u001b[33mt supported when validating via `__init__`.\u001b[39m\u001b[38;5;130;01m\\n\u001b[39;00m\u001b[33m\"\u001b[39m\n\u001b[32m    255\u001b[39m         \u001b[33m'\u001b[39m\u001b[33mSee the `model_validator` docs (https://docs.pydantic.dev/latest/concepts/validators/#model-validators) for more details.\u001b[39m\u001b[33m'\u001b[39m,\n\u001b[32m    256\u001b[39m         stacklevel=\u001b[32m2\u001b[39m,\n\u001b[32m    257\u001b[39m     )\n",
      "\u001b[31mValidationError\u001b[39m: 1 validation error for Fellow\nscore\n  Input should be a valid integer, unable to parse string as an integer [type=int_parsing, input_value='eighty-seven', input_type=str]\n    For further information visit https://errors.pydantic.dev/2.12/v/int_parsing"
     ]
    }
   ],
   "source": [
    "Fellow(name= \"Zach\", score = \"eighty-seven\", track=\"AI Engineering\") # This will raise error"
   ]
  },
  {
   "cell_type": "code",
   "execution_count": 25,
   "id": "902cdcd6",
   "metadata": {},
   "outputs": [
    {
     "name": "stdout",
     "output_type": "stream",
     "text": [
      "<class 'int'>\n"
     ]
    }
   ],
   "source": [
    "p = Fellow(name = \"Perpetual\", score = \"88\", track = \"AI Engineering\")\n",
    "print(type(p.score))\n"
   ]
  },
  {
   "cell_type": "code",
   "execution_count": 27,
   "id": "33ad74a7",
   "metadata": {},
   "outputs": [
    {
     "name": "stdout",
     "output_type": "stream",
     "text": [
      "name='Blessing' score=100 track='AI Engineering'\n",
      "<class 'int'>\n"
     ]
    }
   ],
   "source": [
    "data = {\"name\":\"Blessing\", \"score\":\"100\", \"track\": \"AI Engineering\"}\n",
    "\n",
    "fellow = Fellow(**data)\n",
    "\n",
    "print(fellow)\n",
    "print(type(fellow.score))"
   ]
  },
  {
   "cell_type": "code",
   "execution_count": 28,
   "id": "7e1f13a8",
   "metadata": {},
   "outputs": [
    {
     "name": "stdout",
     "output_type": "stream",
     "text": [
      "{\"name\":\"Perpetual\",\"score\":88,\"track\":\"AI Engineering\"}\n"
     ]
    },
    {
     "name": "stderr",
     "output_type": "stream",
     "text": [
      "C:\\Users\\ncc777\\AppData\\Local\\Temp\\ipykernel_8696\\2201927859.py:1: PydanticDeprecatedSince20: The `json` method is deprecated; use `model_dump_json` instead. Deprecated in Pydantic V2.0 to be removed in V3.0. See Pydantic V2 Migration Guide at https://errors.pydantic.dev/2.12/migration/\n",
      "  print(p.json())\n"
     ]
    }
   ],
   "source": [
    "print(p.json())"
   ]
  },
  {
   "cell_type": "code",
   "execution_count": 30,
   "id": "7f48fd4b",
   "metadata": {},
   "outputs": [
    {
     "name": "stdout",
     "output_type": "stream",
     "text": [
      "{\"name\":\"Perpetual\",\"score\":88,\"track\":\"AI Engineering\"}\n"
     ]
    }
   ],
   "source": [
    "print(p.model_dump_json())"
   ]
  },
  {
   "cell_type": "code",
   "execution_count": 31,
   "id": "eba0d64c",
   "metadata": {},
   "outputs": [
    {
     "name": "stdout",
     "output_type": "stream",
     "text": [
      "{'name': 'Perpetual', 'score': 88, 'track': 'AI Engineering'}\n"
     ]
    },
    {
     "name": "stderr",
     "output_type": "stream",
     "text": [
      "C:\\Users\\ncc777\\AppData\\Local\\Temp\\ipykernel_8696\\2898676942.py:1: PydanticDeprecatedSince20: The `dict` method is deprecated; use `model_dump` instead. Deprecated in Pydantic V2.0 to be removed in V3.0. See Pydantic V2 Migration Guide at https://errors.pydantic.dev/2.12/migration/\n",
      "  print(p.dict())\n"
     ]
    }
   ],
   "source": [
    "print(p.dict())"
   ]
  },
  {
   "cell_type": "code",
   "execution_count": 32,
   "id": "54a06814",
   "metadata": {},
   "outputs": [],
   "source": [
    "class Address(BaseModel):\n",
    "    street: str\n",
    "    city: str\n",
    "    state: str\n",
    "    country: str\n",
    "\n",
    "class Fellow(BaseModel):\n",
    "    name: str\n",
    "    score: int\n",
    "    track: str\n",
    "    address: Address"
   ]
  },
  {
   "cell_type": "code",
   "execution_count": 35,
   "id": "e77fb0ac",
   "metadata": {},
   "outputs": [
    {
     "name": "stdout",
     "output_type": "stream",
     "text": [
      "name='Perpetual' score=88 track='AI Engineering' address=Address(street='Ajelogo Street', city='Ketu', state='Lagos', country='Nigeria')\n"
     ]
    }
   ],
   "source": [
    "# lets pass this data\n",
    "data = {\n",
    "    \"name\": \"Perpetual\",\n",
    "    \"score\": 88,\n",
    "    \"track\": \"AI Engineering\",\n",
    "    \n",
    "    \"address\": {\n",
    "        \"street\": \"Ajelogo Street\",\n",
    "        \"city\": \"Ketu\",\n",
    "        \"state\": \"Lagos\",\n",
    "        \"country\": \"Nigeria\"\n",
    "    }\n",
    "}\n",
    "\n",
    "# pydantic will parse it like this  \n",
    "fellow = Fellow(**data)\n",
    "print(fellow)"
   ]
  },
  {
   "cell_type": "code",
   "execution_count": 37,
   "id": "a28fae4f",
   "metadata": {},
   "outputs": [],
   "source": [
    "# So we can have something like this...for a listt of adress\n",
    "from typing import List\n",
    "from pydantic import BaseModel\n",
    "\n",
    "class Fellow(BaseModel):\n",
    "    name: str\n",
    "    score: int\n",
    "    track: str\n",
    "    addresses: List[Address]"
   ]
  },
  {
   "cell_type": "code",
   "execution_count": 40,
   "id": "d56b4a59",
   "metadata": {},
   "outputs": [
    {
     "name": "stdout",
     "output_type": "stream",
     "text": [
      "name='Perpetual' score=88 track='AI Engineering' addresses=[Address(street='Idoroko Road', city='Sangotedo', state='Lagos', country='Nigeria'), Address(street='Kobape', city='Abeokuta', state='Ogun', country='Nigeria')]\n"
     ]
    }
   ],
   "source": [
    "data = {\n",
    "    \"name\": \"Perpetual\",\n",
    "    \"score\": 88,\n",
    "    \"track\": \"AI Engineering\",\n",
    "    \"addresses\": [\n",
    "        {\"street\": \"Idoroko Road\", \"city\": \"Sangotedo\", \"state\": \"Lagos\",\n",
    "        \"country\": \"Nigeria\"},\n",
    "        {\"street\": \"Kobape\", \"city\": \"Abeokuta\", \"state\": \"Ogun\",\n",
    "        \"country\": \"Nigeria\"}\n",
    "    ]\n",
    "}\n",
    "\n",
    "fellow = Fellow(**data)\n",
    "print(fellow)"
   ]
  },
  {
   "cell_type": "code",
   "execution_count": 41,
   "id": "8fd09c6a",
   "metadata": {},
   "outputs": [
    {
     "name": "stdout",
     "output_type": "stream",
     "text": [
      "Sangotedo\n",
      "Abeokuta\n"
     ]
    }
   ],
   "source": [
    "# Accessing the nested Items\n",
    "\n",
    "print(fellow.addresses[0].city)\n",
    "print(fellow.addresses[1].city)"
   ]
  },
  {
   "cell_type": "code",
   "execution_count": 42,
   "id": "b9211281",
   "metadata": {},
   "outputs": [
    {
     "name": "stdout",
     "output_type": "stream",
     "text": [
      "name='Micheal' score=-79 addresses=[Address(street='123 Marose St', city='Ikorodu'), Address(street='4 Babatunde Ave', city='Abioloa Way')]\n"
     ]
    }
   ],
   "source": [
    "from typing import List\n",
    "from pydantic import BaseModel\n",
    "\n",
    "class Address(BaseModel):\n",
    "    street: str\n",
    "    city: str\n",
    "\n",
    "class Fellow(BaseModel):\n",
    "    name: str\n",
    "    score: int\n",
    "    addresses: List[Address]\n",
    "\n",
    "data = {\n",
    "    \"name\": \"Micheal\",\n",
    "    \"score\": -79,\n",
    "    \"addresses\": [\n",
    "        {\"street\": \"123 Marose St\", \"city\": \"Ikorodu\"},\n",
    "        {\"street\": \"4 Babatunde Ave\", \"city\": \"Abioloa Way\"}\n",
    "    ]\n",
    "}\n",
    "\n",
    "fellow = Fellow(**data)\n",
    "print(fellow)\n",
    "\n"
   ]
  },
  {
   "cell_type": "code",
   "execution_count": null,
   "id": "09246e57",
   "metadata": {},
   "outputs": [],
   "source": [
    "from pydantic import BaseModel, Field\n",
    "from typing import List\n",
    "\n",
    "class Address(BaseModel):\n",
    "    street: str\n",
    "    city: str\n",
    "\n",
    "class Fellow(BaseModel):\n",
    "    name: str\n",
    "    score: int = Field(..., ge=0, le=100) # using the field(ge==greater than, le =less than)\n",
    "    addresses: List[Address]\n"
   ]
  },
  {
   "cell_type": "code",
   "execution_count": 44,
   "id": "4dfdd51d",
   "metadata": {},
   "outputs": [
    {
     "ename": "ValidationError",
     "evalue": "1 validation error for Fellow\nscore\n  Input should be greater than or equal to 0 [type=greater_than_equal, input_value=-40, input_type=int]\n    For further information visit https://errors.pydantic.dev/2.12/v/greater_than_equal",
     "output_type": "error",
     "traceback": [
      "\u001b[31m---------------------------------------------------------------------------\u001b[39m",
      "\u001b[31mValidationError\u001b[39m                           Traceback (most recent call last)",
      "\u001b[36mCell\u001b[39m\u001b[36m \u001b[39m\u001b[32mIn[44]\u001b[39m\u001b[32m, line 1\u001b[39m\n\u001b[32m----> \u001b[39m\u001b[32m1\u001b[39m \u001b[43mFellow\u001b[49m\u001b[43m(\u001b[49m\u001b[43mname\u001b[49m\u001b[43m=\u001b[49m\u001b[33;43m\"\u001b[39;49m\u001b[33;43mHassan\u001b[39;49m\u001b[33;43m\"\u001b[39;49m\u001b[43m,\u001b[49m\u001b[43m \u001b[49m\u001b[43mscore\u001b[49m\u001b[43m=\u001b[49m\u001b[43m \u001b[49m\u001b[43m-\u001b[49m\u001b[32;43m40\u001b[39;49m\u001b[43m,\u001b[49m\u001b[43m \u001b[49m\u001b[43maddresses\u001b[49m\u001b[43m=\u001b[49m\u001b[43m[\u001b[49m\u001b[43m]\u001b[49m\u001b[43m)\u001b[49m\n",
      "\u001b[36mFile \u001b[39m\u001b[32mc:\\Users\\ncc777\\AppData\\Local\\Programs\\Python\\Python313\\Lib\\site-packages\\pydantic\\main.py:250\u001b[39m, in \u001b[36mBaseModel.__init__\u001b[39m\u001b[34m(self, **data)\u001b[39m\n\u001b[32m    248\u001b[39m \u001b[38;5;66;03m# `__tracebackhide__` tells pytest and some other tools to omit this function from tracebacks\u001b[39;00m\n\u001b[32m    249\u001b[39m __tracebackhide__ = \u001b[38;5;28;01mTrue\u001b[39;00m\n\u001b[32m--> \u001b[39m\u001b[32m250\u001b[39m validated_self = \u001b[38;5;28;43mself\u001b[39;49m\u001b[43m.\u001b[49m\u001b[43m__pydantic_validator__\u001b[49m\u001b[43m.\u001b[49m\u001b[43mvalidate_python\u001b[49m\u001b[43m(\u001b[49m\u001b[43mdata\u001b[49m\u001b[43m,\u001b[49m\u001b[43m \u001b[49m\u001b[43mself_instance\u001b[49m\u001b[43m=\u001b[49m\u001b[38;5;28;43mself\u001b[39;49m\u001b[43m)\u001b[49m\n\u001b[32m    251\u001b[39m \u001b[38;5;28;01mif\u001b[39;00m \u001b[38;5;28mself\u001b[39m \u001b[38;5;129;01mis\u001b[39;00m \u001b[38;5;129;01mnot\u001b[39;00m validated_self:\n\u001b[32m    252\u001b[39m     warnings.warn(\n\u001b[32m    253\u001b[39m         \u001b[33m'\u001b[39m\u001b[33mA custom validator is returning a value other than `self`.\u001b[39m\u001b[38;5;130;01m\\n\u001b[39;00m\u001b[33m'\u001b[39m\n\u001b[32m    254\u001b[39m         \u001b[33m\"\u001b[39m\u001b[33mReturning anything other than `self` from a top level model validator isn\u001b[39m\u001b[33m'\u001b[39m\u001b[33mt supported when validating via `__init__`.\u001b[39m\u001b[38;5;130;01m\\n\u001b[39;00m\u001b[33m\"\u001b[39m\n\u001b[32m    255\u001b[39m         \u001b[33m'\u001b[39m\u001b[33mSee the `model_validator` docs (https://docs.pydantic.dev/latest/concepts/validators/#model-validators) for more details.\u001b[39m\u001b[33m'\u001b[39m,\n\u001b[32m    256\u001b[39m         stacklevel=\u001b[32m2\u001b[39m,\n\u001b[32m    257\u001b[39m     )\n",
      "\u001b[31mValidationError\u001b[39m: 1 validation error for Fellow\nscore\n  Input should be greater than or equal to 0 [type=greater_than_equal, input_value=-40, input_type=int]\n    For further information visit https://errors.pydantic.dev/2.12/v/greater_than_equal"
     ]
    }
   ],
   "source": [
    "Fellow(name=\"Hassan\", score= -40, addresses=[])"
   ]
  },
  {
   "cell_type": "code",
   "execution_count": 45,
   "id": "83a34b31",
   "metadata": {},
   "outputs": [
    {
     "data": {
      "text/plain": [
       "Fellow(name='Hassan', score=80, addresses=[])"
      ]
     },
     "execution_count": 45,
     "metadata": {},
     "output_type": "execute_result"
    }
   ],
   "source": [
    "Fellow(name=\"Hassan\", score= 80, addresses=[])"
   ]
  },
  {
   "cell_type": "code",
   "execution_count": 46,
   "id": "751134a4",
   "metadata": {},
   "outputs": [],
   "source": [
    "from pydantic import BaseModel, Field, field_validator\n",
    "\n",
    "class Person(BaseModel):\n",
    "    name: str\n",
    "    age: int = Field(..., ge=0)\n",
    "    \n",
    "    @field_validator(\"name\")\n",
    "    def name_must_start_with_capital(cls, v):\n",
    "        if not v[0].isupper():\n",
    "            raise ValueError(\"Name must start with a capital letter\")\n",
    "        return v\n"
   ]
  },
  {
   "cell_type": "code",
   "execution_count": 47,
   "id": "9949204f",
   "metadata": {},
   "outputs": [
    {
     "ename": "ValidationError",
     "evalue": "1 validation error for Person\nname\n  Value error, Name must start with a capital letter [type=value_error, input_value='solomon', input_type=str]\n    For further information visit https://errors.pydantic.dev/2.12/v/value_error",
     "output_type": "error",
     "traceback": [
      "\u001b[31m---------------------------------------------------------------------------\u001b[39m",
      "\u001b[31mValidationError\u001b[39m                           Traceback (most recent call last)",
      "\u001b[36mCell\u001b[39m\u001b[36m \u001b[39m\u001b[32mIn[47]\u001b[39m\u001b[32m, line 1\u001b[39m\n\u001b[32m----> \u001b[39m\u001b[32m1\u001b[39m \u001b[43mPerson\u001b[49m\u001b[43m(\u001b[49m\u001b[43mname\u001b[49m\u001b[43m=\u001b[49m\u001b[33;43m\"\u001b[39;49m\u001b[33;43msolomon\u001b[39;49m\u001b[33;43m\"\u001b[39;49m\u001b[43m,\u001b[49m\u001b[43m \u001b[49m\u001b[43mage\u001b[49m\u001b[43m=\u001b[49m\u001b[32;43m20\u001b[39;49m\u001b[43m)\u001b[49m\n",
      "\u001b[36mFile \u001b[39m\u001b[32mc:\\Users\\ncc777\\AppData\\Local\\Programs\\Python\\Python313\\Lib\\site-packages\\pydantic\\main.py:250\u001b[39m, in \u001b[36mBaseModel.__init__\u001b[39m\u001b[34m(self, **data)\u001b[39m\n\u001b[32m    248\u001b[39m \u001b[38;5;66;03m# `__tracebackhide__` tells pytest and some other tools to omit this function from tracebacks\u001b[39;00m\n\u001b[32m    249\u001b[39m __tracebackhide__ = \u001b[38;5;28;01mTrue\u001b[39;00m\n\u001b[32m--> \u001b[39m\u001b[32m250\u001b[39m validated_self = \u001b[38;5;28;43mself\u001b[39;49m\u001b[43m.\u001b[49m\u001b[43m__pydantic_validator__\u001b[49m\u001b[43m.\u001b[49m\u001b[43mvalidate_python\u001b[49m\u001b[43m(\u001b[49m\u001b[43mdata\u001b[49m\u001b[43m,\u001b[49m\u001b[43m \u001b[49m\u001b[43mself_instance\u001b[49m\u001b[43m=\u001b[49m\u001b[38;5;28;43mself\u001b[39;49m\u001b[43m)\u001b[49m\n\u001b[32m    251\u001b[39m \u001b[38;5;28;01mif\u001b[39;00m \u001b[38;5;28mself\u001b[39m \u001b[38;5;129;01mis\u001b[39;00m \u001b[38;5;129;01mnot\u001b[39;00m validated_self:\n\u001b[32m    252\u001b[39m     warnings.warn(\n\u001b[32m    253\u001b[39m         \u001b[33m'\u001b[39m\u001b[33mA custom validator is returning a value other than `self`.\u001b[39m\u001b[38;5;130;01m\\n\u001b[39;00m\u001b[33m'\u001b[39m\n\u001b[32m    254\u001b[39m         \u001b[33m\"\u001b[39m\u001b[33mReturning anything other than `self` from a top level model validator isn\u001b[39m\u001b[33m'\u001b[39m\u001b[33mt supported when validating via `__init__`.\u001b[39m\u001b[38;5;130;01m\\n\u001b[39;00m\u001b[33m\"\u001b[39m\n\u001b[32m    255\u001b[39m         \u001b[33m'\u001b[39m\u001b[33mSee the `model_validator` docs (https://docs.pydantic.dev/latest/concepts/validators/#model-validators) for more details.\u001b[39m\u001b[33m'\u001b[39m,\n\u001b[32m    256\u001b[39m         stacklevel=\u001b[32m2\u001b[39m,\n\u001b[32m    257\u001b[39m     )\n",
      "\u001b[31mValidationError\u001b[39m: 1 validation error for Person\nname\n  Value error, Name must start with a capital letter [type=value_error, input_value='solomon', input_type=str]\n    For further information visit https://errors.pydantic.dev/2.12/v/value_error"
     ]
    }
   ],
   "source": [
    "Person(name=\"solomon\", age=20)"
   ]
  },
  {
   "cell_type": "code",
   "execution_count": 48,
   "id": "bb4a4761",
   "metadata": {},
   "outputs": [
    {
     "data": {
      "text/plain": [
       "Person(name='Solomon', age=20)"
      ]
     },
     "execution_count": 48,
     "metadata": {},
     "output_type": "execute_result"
    }
   ],
   "source": [
    "Person(name=\"Solomon\", age=20)"
   ]
  },
  {
   "cell_type": "code",
   "execution_count": 2,
   "id": "cb7b5b78",
   "metadata": {},
   "outputs": [],
   "source": [
    "from datetime import datetime\n",
    "from decimal import Decimal\n",
    "from pydantic import BaseModel, Field, ValidationError\n",
    "from typing import List\n",
    "\n",
    "# Lets create the model here\n",
    "\n",
    "class ProductReview(BaseModel):\n",
    "    \n",
    "    review_id: int = Field(..., gt=0, lt=10000)\n",
    "    username: str = Field(..., min_length=3, max_length=12, pattern=r\"^[A-Za-z0-9_]+$\")\n",
    "    scores: List[int] = Field(..., min_length=3, max_length=5)\n",
    "    price: Decimal = Field(..., gt=0, max_digits=6, decimal_places=2)\n",
    "    rating: float = Field(..., ge=0, le=5, multiple_of=0.5)\n",
    "    is_active: bool = Field(default=True)\n",
    "    created_at: datetime = Field(default_factory=datetime.now)"
   ]
  },
  {
   "cell_type": "code",
   "execution_count": 3,
   "id": "9b588f74",
   "metadata": {},
   "outputs": [],
   "source": [
    "# lets demo for each\n",
    "\n",
    "def demo_int_field():\n",
    "    print(\"Integer Field Validation\")\n",
    "    try:\n",
    "        ProductReview(review_id= -2, username=\"shabi\", scores=[4, 5, 4], price=Decimal(\"10.00\"), rating=4.5)\n",
    "    except ValidationError as e:\n",
    "        print(e)"
   ]
  },
  {
   "cell_type": "code",
   "execution_count": null,
   "id": "5157df76",
   "metadata": {},
   "outputs": [],
   "source": [
    "\n"
   ]
  },
  {
   "cell_type": "code",
   "execution_count": 4,
   "id": "71aa9080",
   "metadata": {},
   "outputs": [
    {
     "name": "stdout",
     "output_type": "stream",
     "text": [
      "Integer Field Validation\n",
      "1 validation error for ProductReview\n",
      "review_id\n",
      "  Input should be greater than 0 [type=greater_than, input_value=-2, input_type=int]\n",
      "    For further information visit https://errors.pydantic.dev/2.12/v/greater_than\n"
     ]
    }
   ],
   "source": [
    "demo_int_field()"
   ]
  },
  {
   "cell_type": "code",
   "execution_count": 5,
   "id": "a93395c2",
   "metadata": {},
   "outputs": [],
   "source": [
    "def demo_str_field():\n",
    "    print(\"String Field Validation\")\n",
    "    try:\n",
    "        ProductReview(review_id=1, username=\"A$\", scores=[4, 5, 5], price=Decimal(\"20.00\"), rating=4.0)\n",
    "    except ValidationError as e:\n",
    "        print(e)"
   ]
  },
  {
   "cell_type": "code",
   "execution_count": 6,
   "id": "d1beb726",
   "metadata": {},
   "outputs": [
    {
     "name": "stdout",
     "output_type": "stream",
     "text": [
      "String Field Validation\n",
      "1 validation error for ProductReview\n",
      "username\n",
      "  String should have at least 3 characters [type=string_too_short, input_value='A$', input_type=str]\n",
      "    For further information visit https://errors.pydantic.dev/2.12/v/string_too_short\n"
     ]
    }
   ],
   "source": [
    "demo_str_field()"
   ]
  },
  {
   "cell_type": "code",
   "execution_count": 7,
   "id": "f34915fc",
   "metadata": {},
   "outputs": [],
   "source": [
    "def demo_list_field():\n",
    "    print(\"\\n List Field Validation\")\n",
    "    try:\n",
    "        ProductReview(review_id=2, username=\"ChrisDev\", scores=[5], price=Decimal(\"30.00\"), rating=3.5)\n",
    "    except ValidationError as e:\n",
    "        print(e)"
   ]
  },
  {
   "cell_type": "code",
   "execution_count": 8,
   "id": "cabb3c96",
   "metadata": {},
   "outputs": [
    {
     "name": "stdout",
     "output_type": "stream",
     "text": [
      "\n",
      " List Field Validation\n",
      "1 validation error for ProductReview\n",
      "scores\n",
      "  List should have at least 3 items after validation, not 1 [type=too_short, input_value=[5], input_type=list]\n",
      "    For further information visit https://errors.pydantic.dev/2.12/v/too_short\n"
     ]
    }
   ],
   "source": [
    "demo_list_field()"
   ]
  },
  {
   "cell_type": "code",
   "execution_count": 9,
   "id": "2f4242c2",
   "metadata": {},
   "outputs": [],
   "source": [
    "def demo_decimal_field():\n",
    "    print(\"\\n Decimal Field Validation\")\n",
    "    try:\n",
    "        ProductReview(review_id=3, username=\"Tester\", scores=[4, 4, 5], price=Decimal(\"-10.00\"), rating=4.5)\n",
    "    except ValidationError as e:\n",
    "        print(e)"
   ]
  },
  {
   "cell_type": "code",
   "execution_count": 10,
   "id": "98b37771",
   "metadata": {},
   "outputs": [
    {
     "name": "stdout",
     "output_type": "stream",
     "text": [
      "\n",
      " Decimal Field Validation\n",
      "1 validation error for ProductReview\n",
      "price\n",
      "  Input should be greater than 0 [type=greater_than, input_value=Decimal('-10.00'), input_type=Decimal]\n",
      "    For further information visit https://errors.pydantic.dev/2.12/v/greater_than\n"
     ]
    }
   ],
   "source": [
    "demo_decimal_field()"
   ]
  },
  {
   "cell_type": "code",
   "execution_count": 11,
   "id": "4fbd6571",
   "metadata": {},
   "outputs": [],
   "source": [
    "def demo_float_field():\n",
    "    print(\"\\n Float Field Validation\")\n",
    "    try:\n",
    "        ProductReview(review_id=4, username=\"SmartDev\", scores=[5, 4, 4], price=Decimal(\"99.99\"), rating=4.3)\n",
    "    except ValidationError as e:\n",
    "        print(e)"
   ]
  },
  {
   "cell_type": "code",
   "execution_count": 12,
   "id": "7ff464d4",
   "metadata": {},
   "outputs": [
    {
     "name": "stdout",
     "output_type": "stream",
     "text": [
      "\n",
      " Float Field Validation\n",
      "1 validation error for ProductReview\n",
      "rating\n",
      "  Input should be a multiple of 0.5 [type=multiple_of, input_value=4.3, input_type=float]\n",
      "    For further information visit https://errors.pydantic.dev/2.12/v/multiple_of\n"
     ]
    }
   ],
   "source": [
    "demo_float_field()"
   ]
  },
  {
   "cell_type": "code",
   "execution_count": 13,
   "id": "70cfc277",
   "metadata": {},
   "outputs": [],
   "source": [
    "def demo_bool_field():\n",
    "    print(\"\\n Boolean Field Default\")\n",
    "    product = ProductReview(\n",
    "        review_id=5,\n",
    "        username=\"JaneDoe\",\n",
    "        scores=[5, 4, 5],\n",
    "        price=Decimal(\"59.99\"),\n",
    "        rating=5.0\n",
    "    )\n",
    "    print(\"is_active =\", product.is_active)"
   ]
  },
  {
   "cell_type": "code",
   "execution_count": 14,
   "id": "5ea1a673",
   "metadata": {},
   "outputs": [
    {
     "name": "stdout",
     "output_type": "stream",
     "text": [
      "\n",
      " Boolean Field Default\n",
      "is_active = True\n"
     ]
    }
   ],
   "source": [
    "demo_bool_field()"
   ]
  },
  {
   "cell_type": "code",
   "execution_count": 15,
   "id": "b4cc192d",
   "metadata": {},
   "outputs": [],
   "source": [
    "def demo_datetime_field():\n",
    "    print(\"\\n Datetime Default Factory\")\n",
    "    product = ProductReview(\n",
    "        review_id=6,\n",
    "        username=\"TimeUser\",\n",
    "        scores=[3, 4, 5],\n",
    "        price=Decimal(\"25.00\"),\n",
    "        rating=4.5\n",
    "    )\n",
    "    print(\"created_at =\", product.created_at)"
   ]
  },
  {
   "cell_type": "code",
   "execution_count": 16,
   "id": "a94e6dfd",
   "metadata": {},
   "outputs": [
    {
     "name": "stdout",
     "output_type": "stream",
     "text": [
      "\n",
      " Datetime Default Factory\n",
      "created_at = 2025-10-15 15:25:04.533540\n"
     ]
    }
   ],
   "source": [
    "demo_datetime_field()"
   ]
  }
 ],
 "metadata": {
  "kernelspec": {
   "display_name": "Python 3",
   "language": "python",
   "name": "python3"
  },
  "language_info": {
   "codemirror_mode": {
    "name": "ipython",
    "version": 3
   },
   "file_extension": ".py",
   "mimetype": "text/x-python",
   "name": "python",
   "nbconvert_exporter": "python",
   "pygments_lexer": "ipython3",
   "version": "3.13.6"
  }
 },
 "nbformat": 4,
 "nbformat_minor": 5
}
