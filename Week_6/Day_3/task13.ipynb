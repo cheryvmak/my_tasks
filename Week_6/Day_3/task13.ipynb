{
 "cells": [
  {
   "cell_type": "markdown",
   "id": "6e67d999",
   "metadata": {},
   "source": [
    "1. Create a 6x6 NumPy array with random integers between 1 and 50. Display the array"
   ]
  },
  {
   "cell_type": "code",
   "execution_count": null,
   "id": "0397b585",
   "metadata": {},
   "outputs": [
    {
     "data": {
      "text/plain": [
       "array([[46, 27, 15, 46,  6, 10],\n",
       "       [24, 36, 41, 46,  6,  7],\n",
       "       [46, 11,  8, 49,  3, 46],\n",
       "       [21, 48,  8, 38, 28, 42],\n",
       "       [20, 45, 12,  7,  8,  3],\n",
       "       [47, 37, 14, 44, 48, 40]], dtype=int32)"
      ]
     },
     "execution_count": 1,
     "metadata": {},
     "output_type": "execute_result"
    }
   ],
   "source": [
    "import random\n",
    "import numpy as np\n",
    "#number= random.randint(1, 50)\n",
    "arr6d = np.random.randint(1, 50, size= (6, 6))\n",
    "arr6d"
   ]
  },
  {
   "cell_type": "markdown",
   "id": "18f050c4",
   "metadata": {},
   "source": [
    "2.  Extract the following from the array you created in Question 1: The first two rows. The last three columns. All even numbers in the array\n"
   ]
  },
  {
   "cell_type": "code",
   "execution_count": 14,
   "id": "66b78dc6",
   "metadata": {},
   "outputs": [
    {
     "name": "stdout",
     "output_type": "stream",
     "text": [
      "The first two rows: [[46 27 15 46  6 10]\n",
      " [24 36 41 46  6  7]]\n",
      "\n",
      "\n",
      "The last three columns: [[46  6 10]\n",
      " [46  6  7]\n",
      " [49  3 46]\n",
      " [38 28 42]\n",
      " [ 7  8  3]\n",
      " [44 48 40]]\n",
      "\n",
      "\n",
      "Even numbers in the slicing matrix : [46  6 10 46  6 46 38 28 42  8 44 48 40]\n"
     ]
    }
   ],
   "source": [
    "print(\"The first two rows:\", arr6d[:2])\n",
    "print(\"\\n\")\n",
    "print(\"The last three columns:\", arr6d[:,-3:])\n",
    "slicing = arr6d[:,-3:]\n",
    "even_numbers = slicing[slicing % 2 == 0]\n",
    "print(\"\\n\")\n",
    "print(\"Even numbers in the slicing matrix :\", even_numbers)\n"
   ]
  },
  {
   "cell_type": "markdown",
   "id": "f20b7a44",
   "metadata": {},
   "source": [
    " 3. Perform the following array transformations: Reshape the array into a 3D (3, 2, 6) array. Flatten the reshaped array back to 1D\n"
   ]
  },
  {
   "cell_type": "code",
   "execution_count": 7,
   "id": "10b4238f",
   "metadata": {},
   "outputs": [
    {
     "name": "stdout",
     "output_type": "stream",
     "text": [
      "Resshape array: [[[46 27 15 46  6 10]\n",
      "  [24 36 41 46  6  7]]\n",
      "\n",
      " [[46 11  8 49  3 46]\n",
      "  [21 48  8 38 28 42]]\n",
      "\n",
      " [[20 45 12  7  8  3]\n",
      "  [47 37 14 44 48 40]]]\n",
      "\n",
      "\n",
      "Flattened the reshaped: [46 27 15 46  6 10 24 36 41 46  6  7 46 11  8 49  3 46 21 48  8 38 28 42\n",
      " 20 45 12  7  8  3 47 37 14 44 48 40]\n"
     ]
    }
   ],
   "source": [
    "reshaped_arr6d = arr6d.reshape(3, 2, 6)\n",
    "print(\"Resshape array:\", reshaped_arr6d)\n",
    "print(\"\\n\")\n",
    "print(\"Flattened the reshaped:\", reshaped_arr6d.flatten())"
   ]
  },
  {
   "cell_type": "markdown",
   "id": "d1b933da",
   "metadata": {},
   "source": [
    " 4. Generate a 4x4 identity matrix and replace the diagonal with numbers from 10 to 40, with a step of 10"
   ]
  },
  {
   "cell_type": "code",
   "execution_count": 9,
   "id": "bd4e8e18",
   "metadata": {},
   "outputs": [
    {
     "name": "stdout",
     "output_type": "stream",
     "text": [
      "4 by 4  Identity matrix: [[18 27 25 20]\n",
      " [16 11 32 13]\n",
      " [33 17 27 27]\n",
      " [21 26 27 23]]\n",
      "\n",
      "\n",
      "[[10 27 25 20]\n",
      " [16 20 32 13]\n",
      " [33 17 30 27]\n",
      " [21 26 27 10]]\n"
     ]
    }
   ],
   "source": [
    "arr4d = np.random.randint(10, 40, size= (4, 4))\n",
    "print(\"4 by 4  Identity matrix:\", arr4d)\n",
    "print(\"\\n\")\n",
    "num = np.arange(10, 40, 10)\n",
    "np.fill_diagonal(arr4d, num)\n",
    "print(arr4d)\n"
   ]
  },
  {
   "cell_type": "markdown",
   "id": "aebb670d",
   "metadata": {},
   "source": [
    "5. Perform matrix multiplication between: A 3x4 matrix of random integers (1-10) A 4x3 matrix of random integers (1-10)"
   ]
  },
  {
   "cell_type": "code",
   "execution_count": 13,
   "id": "f9997210",
   "metadata": {},
   "outputs": [
    {
     "name": "stdout",
     "output_type": "stream",
     "text": [
      "Matrix A: [[8 3 4 5]\n",
      " [6 1 3 2]\n",
      " [2 9 9 5]]\n",
      "\n",
      "\n",
      "Matrix B: [[3 6 3]\n",
      " [5 3 9]\n",
      " [8 5 3]\n",
      " [1 7 8]]\n",
      "\n",
      "\n",
      "Matrix multiplication: [[ 76 112 103]\n",
      " [ 49  68  52]\n",
      " [128 119 154]]\n"
     ]
    }
   ],
   "source": [
    "matrix_A = np.random.randint(1, 10, size= (3, 4))\n",
    "matrix_B = np.random.randint(1, 10, size=(4, 3))\n",
    "print(\"Matrix A:\", matrix_A)\n",
    "print(\"\\n\")\n",
    "print(\"Matrix B:\", matrix_B)\n",
    "print(\"\\n\")\n",
    "mat_mult = np.dot(matrix_A , matrix_B)\n",
    "print(\"Matrix multiplication:\", mat_mult)"
   ]
  },
  {
   "cell_type": "markdown",
   "id": "aec168ab",
   "metadata": {},
   "source": [
    " 6. Create a function that takes a 2D NumPy array as input and returns a new array where: All even numbers are squared. All odd numbers are replaced by -1"
   ]
  },
  {
   "cell_type": "code",
   "execution_count": null,
   "id": "0b0b7325",
   "metadata": {},
   "outputs": [],
   "source": [
    "import numpy as np\n",
    "\n",
    "def numpy_2D(a):\n",
    "    result = a.copy()\n",
    "    result[a % 2 == 0] == result[a % 2 == 0] ** 2\n",
    "    result[a % 2 != 0] = -1\n",
    "    return result\n",
    "\n",
    "#def get_userinput()\n",
    "\n",
    "#arr2d = np.random.randint(1, 10, size= (2, 2))\n",
    "rows = int(input(\"Enter the number of rows:\"))\n",
    "columns = int(input(\"Enter the number of columns:\"))\n",
    "\n",
    "if rows <= 0  or columns <= 0:\n",
    "        raise ValueError\n",
    "input_array = []\n",
    "print(f\"Enter {rows * columns} integer for {rows} x {columns} array (row by column)\")\n",
    "for i in range (rows):\n",
    "    rows = []\n",
    "    for j in range (columns):\n",
    "        while True:\n",
    "            try:\n",
    "                element = input(f\"Enter element at position {i}{j}:\")\n",
    "                rows.append(element)\n",
    "                break\n",
    "            except ValueError:\n",
    "                print(\"Please enter a valid integer\")\n",
    "                input_array.append(rows)\n",
    "\n",
    "arr = np.array(input_array)\n",
    "output = numpy_2D(arr)\n",
    "print(output)\n",
    "\n",
    "\n",
    "\n",
    "\n"
   ]
  }
 ],
 "metadata": {
  "kernelspec": {
   "display_name": "a_env",
   "language": "python",
   "name": "python3"
  },
  "language_info": {
   "codemirror_mode": {
    "name": "ipython",
    "version": 3
   },
   "file_extension": ".py",
   "mimetype": "text/x-python",
   "name": "python",
   "nbconvert_exporter": "python",
   "pygments_lexer": "ipython3",
   "version": "3.13.6"
  }
 },
 "nbformat": 4,
 "nbformat_minor": 5
}
