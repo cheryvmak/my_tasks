{
 "cells": [
  {
   "cell_type": "markdown",
   "id": "6e67d999",
   "metadata": {},
   "source": [
    "#### 1. Create a 6x6 NumPy array with random integers between 1 and 50. Display the array"
   ]
  },
  {
   "cell_type": "code",
   "execution_count": null,
   "id": "0397b585",
   "metadata": {},
   "outputs": [
    {
     "data": {
      "text/plain": [
       "array([[26, 19, 16, 24, 15,  5],\n",
       "       [33, 45, 28, 14, 18, 20],\n",
       "       [41, 10,  7,  8, 28,  3],\n",
       "       [30, 18,  3, 19, 20, 15],\n",
       "       [37, 24, 49, 25, 21, 25],\n",
       "       [ 9, 40, 19, 31, 41, 46]], dtype=int32)"
      ]
     },
     "execution_count": 1,
     "metadata": {},
     "output_type": "execute_result"
    }
   ],
   "source": [
    "import random\n",
    "import numpy as np\n",
    "\n",
    "arr6d = np.random.randint(1, 50, size= (6, 6))\n",
    "arr6d"
   ]
  },
  {
   "cell_type": "markdown",
   "id": "18f050c4",
   "metadata": {},
   "source": [
    "#### 2.  Extract the following from the array you created in Question 1: The first two rows. The last three columns. All even numbers in the array\n"
   ]
  },
  {
   "cell_type": "code",
   "execution_count": 3,
   "id": "66b78dc6",
   "metadata": {},
   "outputs": [
    {
     "name": "stdout",
     "output_type": "stream",
     "text": [
      "The first two rows: [[26 19 16 24 15  5]\n",
      " [33 45 28 14 18 20]]\n",
      "\n",
      "\n",
      "The last three columns: [[24 15  5]\n",
      " [14 18 20]\n",
      " [ 8 28  3]\n",
      " [19 20 15]\n",
      " [25 21 25]\n",
      " [31 41 46]]\n",
      "\n",
      "\n",
      "Even numbers in the matrix : [26 16 24 28 14 18 20 10  8 28 30 18 20 24 40 46]\n"
     ]
    }
   ],
   "source": [
    "print(\"The first two rows:\", arr6d[:2])\n",
    "print(\"\\n\")\n",
    "print(\"The last three columns:\", arr6d[:,-3:])\n",
    "\n",
    "even_numbers = arr6d[arr6d % 2 == 0]\n",
    "print(\"\\n\")\n",
    "print(\"Even numbers in the matrix :\", even_numbers)\n"
   ]
  },
  {
   "cell_type": "markdown",
   "id": "f20b7a44",
   "metadata": {},
   "source": [
    "#### 3. Perform the following array transformations: Reshape the array into a 3D (3, 2, 6) array. Flatten the reshaped array back to 1D\n"
   ]
  },
  {
   "cell_type": "code",
   "execution_count": 9,
   "id": "10b4238f",
   "metadata": {},
   "outputs": [
    {
     "name": "stdout",
     "output_type": "stream",
     "text": [
      "Resshaped array:\n",
      " [[[26 19 16 24 15  5]\n",
      "  [33 45 28 14 18 20]]\n",
      "\n",
      " [[41 10  7  8 28  3]\n",
      "  [30 18  3 19 20 15]]\n",
      "\n",
      " [[37 24 49 25 21 25]\n",
      "  [ 9 40 19 31 41 46]]]\n",
      "\n",
      "Flattened the reshaped array to 1D:\n",
      " [26 19 16 24 15  5 33 45 28 14 18 20 41 10  7  8 28  3 30 18  3 19 20 15\n",
      " 37 24 49 25 21 25  9 40 19 31 41 46]\n"
     ]
    }
   ],
   "source": [
    "reshaped_arr6d = arr6d.reshape(3, 2, 6)\n",
    "print(\"Resshaped array:\\n\", reshaped_arr6d)\n",
    "print(\"\\nFlattened the reshaped array to 1D:\\n\", reshaped_arr6d.flatten())"
   ]
  },
  {
   "cell_type": "markdown",
   "id": "d1b933da",
   "metadata": {},
   "source": [
    "#### 4. Generate a 4x4 identity matrix and replace the diagonal with numbers from 10 to 40, with a step of 10"
   ]
  },
  {
   "cell_type": "code",
   "execution_count": 14,
   "id": "bd4e8e18",
   "metadata": {},
   "outputs": [
    {
     "name": "stdout",
     "output_type": "stream",
     "text": [
      "4 by 4 Identity matrix:\n",
      " [[27 13 35 14]\n",
      " [40 46 27 10]\n",
      " [16 39 32 33]\n",
      " [28 42 29 26]]\n",
      "\n",
      " Final output:\n",
      " [[10 13 35 14]\n",
      " [40 20 27 10]\n",
      " [16 39 30 33]\n",
      " [28 42 29 10]]\n"
     ]
    }
   ],
   "source": [
    "arr4d = np.random.randint(1, 50, size= (4, 4))\n",
    "print(\"4 by 4 Identity matrix:\\n\", arr4d)\n",
    "num = np.arange(10, 40, 10)\n",
    "np.fill_diagonal(arr4d, num)\n",
    "print(\"\\n Final output:\\n\",arr4d)\n"
   ]
  },
  {
   "cell_type": "markdown",
   "id": "aebb670d",
   "metadata": {},
   "source": [
    "5. Perform matrix multiplication between: A 3x4 matrix of random integers (1-10) A 4x3 matrix of random integers (1-10)"
   ]
  },
  {
   "cell_type": "code",
   "execution_count": 16,
   "id": "f9997210",
   "metadata": {},
   "outputs": [
    {
     "name": "stdout",
     "output_type": "stream",
     "text": [
      "Matrix A:\n",
      " [[7 5 5 8]\n",
      " [9 9 6 7]\n",
      " [4 7 1 5]]\n",
      "\n",
      "\n",
      "Matrix B:\n",
      " [[1 1 4]\n",
      " [7 7 9]\n",
      " [9 5 1]\n",
      " [6 3 7]]\n",
      "\n",
      "\n",
      "Matrix multiplication:\n",
      " [[135  91 134]\n",
      " [168 123 172]\n",
      " [ 92  73 115]]\n"
     ]
    }
   ],
   "source": [
    "matrix_A = np.random.randint(1, 10, size= (3, 4))\n",
    "matrix_B = np.random.randint(1, 10, size=(4, 3))\n",
    "print(\"Matrix A:\\n\", matrix_A)\n",
    "print(\"\\n\")\n",
    "print(\"Matrix B:\\n\", matrix_B)\n",
    "print(\"\\n\")\n",
    "mat_mult = np.dot(matrix_A , matrix_B)\n",
    "print(\"Matrix multiplication:\\n\", mat_mult)"
   ]
  },
  {
   "cell_type": "markdown",
   "id": "aec168ab",
   "metadata": {},
   "source": [
    " 6. Create a function that takes a 2D NumPy array as input and returns a new array where: All even numbers are squared. All odd numbers are replaced by -1"
   ]
  },
  {
   "cell_type": "code",
   "execution_count": 19,
   "id": "0b0b7325",
   "metadata": {},
   "outputs": [
    {
     "name": "stdout",
     "output_type": "stream",
     "text": [
      "Enter 4 integer for 2 x 2 array (row by column)\n",
      "original array:\n",
      " [[1 2]\n",
      " [3 4]]\n",
      "\n",
      "new array:\n",
      " [[-1  4]\n",
      " [-1 16]]\n"
     ]
    }
   ],
   "source": [
    "import numpy as np\n",
    "\n",
    "def numpy_2D(a):\n",
    "    result = a.copy()\n",
    "    # square even number and replace odd numbers with -1\n",
    "    result = np.where(a % 2 == 0, a ** 2, -1)\n",
    "    return result\n",
    "\n",
    "# take user input for 2D array\n",
    "rows = int(input(\"Enter the number of rows:\"))\n",
    "columns = int(input(\"Enter the number of columns:\"))\n",
    "\n",
    "# validate user input \n",
    "if rows <= 0  or columns <= 0:\n",
    "        raise ValueError\n",
    "# create empty list to store array element\n",
    "input_array = []\n",
    "\n",
    "# this shows array elements from the user\n",
    "print(f\"Enter {rows * columns} integer for {rows} x {columns} array (row by column)\")\n",
    "for i in range (rows):\n",
    "    rows = []\n",
    "    for j in range (columns):\n",
    "        while True:\n",
    "            try:\n",
    "                element = int(input(f\"Enter element at position [{i}][{j}]:\"))\n",
    "                rows.append(element)\n",
    "                break\n",
    "            except ValueError:\n",
    "                print(\"Please enter a valid integer\")\n",
    "    input_array.append(rows)\n",
    "\n",
    "\n",
    "# convert list to  numpy array\n",
    "a = np.array(input_array)\n",
    "\n",
    "# applying the function\n",
    "output = numpy_2D(a)\n",
    "# printing the original entry and the final output after applying the function\n",
    "print(\"original array:\\n\", a)\n",
    "print(\"\\nnew array:\\n\", output)\n",
    "\n",
    "\n",
    "# def array_2D():\n",
    "#     row = int(input(\"Enter number for row: \"))\n",
    "#     column = int(input(\"Enter number for column: \"))\n",
    "\n",
    "#     arr  = np.arange(row * column).reshape(row, column)\n",
    "#     new_arr = np.where(arr % 2 == 0, arr ** 2, -1)\n",
    "#     print(new_arr)\n",
    "\n",
    "\n"
   ]
  }
 ],
 "metadata": {
  "kernelspec": {
   "display_name": "Python 3",
   "language": "python",
   "name": "python3"
  },
  "language_info": {
   "codemirror_mode": {
    "name": "ipython",
    "version": 3
   },
   "file_extension": ".py",
   "mimetype": "text/x-python",
   "name": "python",
   "nbconvert_exporter": "python",
   "pygments_lexer": "ipython3",
   "version": "3.13.1"
  }
 },
 "nbformat": 4,
 "nbformat_minor": 5
}
