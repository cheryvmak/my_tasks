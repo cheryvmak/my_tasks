{
 "cells": [
  {
   "cell_type": "code",
   "execution_count": 97,
   "id": "1299f103",
   "metadata": {},
   "outputs": [
    {
     "name": "stdout",
     "output_type": "stream",
     "text": [
      "Student scores in a matrix: [[80 70 90]\n",
      " [60 85 75]\n",
      " [95 88 92]\n",
      " [70 60 65]]\n"
     ]
    }
   ],
   "source": [
    "import numpy as np\n",
    "\n",
    "\n",
    "\n",
    "# Question 1\n",
    "\n",
    "\n",
    "scores = np.array([[80, 70, 90],[60, 85, 75], \n",
    "                  [95, 88, 92], [70, 60, 65]])\n",
    "print(\"Student scores in a matrix:\", scores)"
   ]
  },
  {
   "cell_type": "code",
   "execution_count": 98,
   "id": "2b7792f7",
   "metadata": {},
   "outputs": [
    {
     "name": "stdout",
     "output_type": "stream",
     "text": [
      "Total score for each (student_1, student_2, student_3, student_4) : [240 220 275 195]\n"
     ]
    }
   ],
   "source": [
    "print(\"Total score for each (student_1, student_2, student_3, student_4) :\", np.sum(scores, axis=1))  "
   ]
  },
  {
   "cell_type": "code",
   "execution_count": 99,
   "id": "dd0db592",
   "metadata": {},
   "outputs": [
    {
     "name": "stdout",
     "output_type": "stream",
     "text": [
      "[[160  70  90]\n",
      " [120  85  75]\n",
      " [190  88  92]\n",
      " [140  60  65]]\n"
     ]
    }
   ],
   "source": [
    "scores = scores.copy()\n",
    "scalar_math = 2\n",
    "\n",
    "scores[:, 0] = scalar_math * scores[:, 0]\n",
    "print(scores)"
   ]
  },
  {
   "cell_type": "code",
   "execution_count": 100,
   "id": "e8ee85d5",
   "metadata": {},
   "outputs": [
    {
     "name": "stdout",
     "output_type": "stream",
     "text": [
      "Average score for each (Math, English, Science) : [152.5   75.75  80.5 ]\n"
     ]
    }
   ],
   "source": [
    "print(\"Average score for each (Math, English, Science) :\", np.mean(scores, axis=0))  "
   ]
  },
  {
   "cell_type": "code",
   "execution_count": 101,
   "id": "00467260",
   "metadata": {},
   "outputs": [
    {
     "name": "stdout",
     "output_type": "stream",
     "text": [
      "The final_grades: [76.25  22.725 16.1  ]\n"
     ]
    }
   ],
   "source": [
    "average_score = np.mean(scores, axis = 0)\n",
    "\n",
    "weight_vector = np.array([0.5, 0.3, 0.2])\n",
    "final_grade = weight_vector * average_score\n",
    "print(\"The final_grades:\", final_grade)"
   ]
  },
  {
   "cell_type": "code",
   "execution_count": 103,
   "id": "613a496c",
   "metadata": {},
   "outputs": [
    {
     "data": {
      "text/plain": [
       "array([[160,  70,  90],\n",
       "       [120,  85,  75],\n",
       "       [190,  88,  92],\n",
       "       [140,  60,  65]])"
      ]
     },
     "execution_count": 103,
     "metadata": {},
     "output_type": "execute_result"
    }
   ],
   "source": [
    "scores"
   ]
  },
  {
   "cell_type": "code",
   "execution_count": 104,
   "id": "ed626ee5",
   "metadata": {},
   "outputs": [
    {
     "name": "stdout",
     "output_type": "stream",
     "text": [
      "Student_1 Score vector: [[160  70  90]]\n",
      "\n",
      "\n",
      "Student_2 Score vector: [[120  85  75]]\n",
      "\n",
      "\n",
      "comparing student (1 & 2) vector score [[ 40 -15  15]]\n"
     ]
    }
   ],
   "source": [
    "student_1_score = scores[0:1]\n",
    "student_2_score = scores[1:2]\n",
    "\n",
    "print(\"Student_1 Score vector:\",student_1_score)\n",
    "print(\"\\n\")\n",
    "print(\"Student_2 Score vector:\",student_2_score)\n",
    "\n",
    "compare_scores = student_1_score - student_2_score\n",
    "print(\"\\n\")\n",
    "print(\"comparing student (1 & 2) vector score\", compare_scores)"
   ]
  },
  {
   "cell_type": "code",
   "execution_count": null,
   "id": "9432db2d",
   "metadata": {},
   "outputs": [],
   "source": [
    "\n",
    "\n"
   ]
  },
  {
   "cell_type": "code",
   "execution_count": 105,
   "id": "b9bf1ad4",
   "metadata": {},
   "outputs": [
    {
     "name": "stdout",
     "output_type": "stream",
     "text": [
      "Student scores in a matrix: [[82 71 77 55]\n",
      " [50 45 79 82]\n",
      " [59 68 72 53]\n",
      " [30 70 55 64]\n",
      " [72 83 65 87]]\n"
     ]
    }
   ],
   "source": [
    "# Question 2\n",
    "\n",
    "\n",
    "new_scores = np.array([[82, 71, 77, 55],[50, 45, 79, 82], \n",
    "                  [59, 68, 72, 53], [30, 70, 55, 64], [72, 83, 65, 87]])\n",
    "print(\"Student scores in a matrix:\", new_scores)"
   ]
  },
  {
   "cell_type": "code",
   "execution_count": 106,
   "id": "c10fbb5f",
   "metadata": {},
   "outputs": [
    {
     "data": {
      "text/plain": [
       "(5, 4)"
      ]
     },
     "execution_count": 106,
     "metadata": {},
     "output_type": "execute_result"
    }
   ],
   "source": [
    "new_scores.shape"
   ]
  },
  {
   "cell_type": "code",
   "execution_count": 107,
   "id": "e94b40d9",
   "metadata": {},
   "outputs": [
    {
     "name": "stdout",
     "output_type": "stream",
     "text": [
      "Total score for each (student_1, student_2, student_3, student_4, student_5) : [285 256 252 219 307]\n"
     ]
    }
   ],
   "source": [
    "print(\"Total score for each (student_1, student_2, student_3, student_4, student_5) :\", np.sum(new_scores, axis=1))  "
   ]
  },
  {
   "cell_type": "code",
   "execution_count": 108,
   "id": "bd4fba30",
   "metadata": {},
   "outputs": [
    {
     "name": "stdout",
     "output_type": "stream",
     "text": [
      "Average score for each (Math, English, Science, chemistry) : [58.6 67.4 69.6 68.2]\n"
     ]
    }
   ],
   "source": [
    "print(\"Average score for each (Math, English, Science, chemistry) :\", np.mean(new_scores, axis=0)) "
   ]
  },
  {
   "cell_type": "code",
   "execution_count": 109,
   "id": "a2505599",
   "metadata": {},
   "outputs": [
    {
     "name": "stdout",
     "output_type": "stream",
     "text": [
      "[[ 82  71 231  55]\n",
      " [ 50  45 237  82]\n",
      " [ 59  68 216  53]\n",
      " [ 30  70 165  64]\n",
      " [ 72  83 195  87]]\n"
     ]
    }
   ],
   "source": [
    "new_scores = new_scores.copy()\n",
    "scalar_science = 3\n",
    "\n",
    "new_scores[:, 2] = scalar_science * new_scores[:, 2]\n",
    "print(new_scores)\n",
    "\n",
    "\n"
   ]
  },
  {
   "cell_type": "code",
   "execution_count": 110,
   "id": "bac8339b",
   "metadata": {},
   "outputs": [
    {
     "name": "stdout",
     "output_type": "stream",
     "text": [
      "The final_grades: [23.44 13.48 62.64  6.82]\n"
     ]
    }
   ],
   "source": [
    "average_score_2 = np.mean(new_scores, axis = 0)\n",
    "\n",
    "weight_vector_2 = np.array([0.4, 0.2, 0.3, 0.1])\n",
    "final_grade_2 = weight_vector_2 * average_score_2\n",
    "print(\"The final_grades:\", final_grade_2)"
   ]
  },
  {
   "cell_type": "code",
   "execution_count": 111,
   "id": "41c9e229",
   "metadata": {},
   "outputs": [
    {
     "name": "stdout",
     "output_type": "stream",
     "text": [
      "Student_3 Score vector: [[ 59  68 216  53]]\n",
      "\n",
      "\n",
      "Student_4 Score vector: [[ 30  70 165  64]]\n",
      "\n",
      "\n",
      "comparing student (3 & 4) vector score [[ 29  -2  51 -11]]\n"
     ]
    }
   ],
   "source": [
    "student_3_score = new_scores[2:3]\n",
    "student_4_score = new_scores[3:4]\n",
    "\n",
    "print(\"Student_3 Score vector:\",student_3_score)\n",
    "print(\"\\n\")\n",
    "print(\"Student_4 Score vector:\",student_4_score)\n",
    "\n",
    "compare_scores_2 = student_3_score - student_4_score\n",
    "print(\"\\n\")\n",
    "print(\"comparing student (3 & 4) vector score\", compare_scores_2)"
   ]
  },
  {
   "cell_type": "markdown",
   "id": "4ac90b07",
   "metadata": {},
   "source": [
    "In math - student 3 performs better\n",
    "In english - student 4 performs better\n",
    "In Science - student 3 performs better\n",
    "In chemistry - student 4 performs better\n"
   ]
  }
 ],
 "metadata": {
  "kernelspec": {
   "display_name": "Python 3",
   "language": "python",
   "name": "python3"
  },
  "language_info": {
   "codemirror_mode": {
    "name": "ipython",
    "version": 3
   },
   "file_extension": ".py",
   "mimetype": "text/x-python",
   "name": "python",
   "nbconvert_exporter": "python",
   "pygments_lexer": "ipython3",
   "version": "3.13.6"
  }
 },
 "nbformat": 4,
 "nbformat_minor": 5
}
