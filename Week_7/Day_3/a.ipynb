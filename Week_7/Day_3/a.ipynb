{
 "cells": [
  {
   "cell_type": "code",
   "execution_count": 12,
   "id": "4f13795f",
   "metadata": {},
   "outputs": [],
   "source": [
    "import pandas as pd\n",
    "import numpy as np\n",
    "import os"
   ]
  },
  {
   "cell_type": "code",
   "execution_count": 1,
   "id": "c2b374d0",
   "metadata": {},
   "outputs": [
    {
     "name": "stdout",
     "output_type": "stream",
     "text": [
      "NumPy version: 2.3.2\n"
     ]
    }
   ],
   "source": [
    "# import all neccsarry libraries\n",
    "\n",
    "import numpy as np\n",
    "import matplotlib.pyplot as plt\n",
    "import time\n",
    "\n",
    "# Check NumPy version\n",
    "print(f\"NumPy version: {np.__version__}\")\n",
    "\n",
    "# Display settings for cleaner output\n",
    "np.set_printoptions(precision=3, suppress=True)"
   ]
  },
  {
   "cell_type": "code",
   "execution_count": 2,
   "id": "595b1d1b",
   "metadata": {},
   "outputs": [
    {
     "name": "stdout",
     "output_type": "stream",
     "text": [
      "1D array: [1 2 3 4 5]\n",
      "2D array:\n",
      " [[1 2 3]\n",
      " [4 5 6]]\n",
      "3D array:\n",
      " [[[1 2]\n",
      "  [3 4]]\n",
      "\n",
      " [[5 6]\n",
      "  [7 8]]]\n"
     ]
    }
   ],
   "source": [
    "# Creating arrays from Python lists\n",
    "# 1D array: A simple sequence of numbers\n",
    "arr1d = np.array([1, 2, 3, 4, 5])\n",
    "\n",
    "# 2D array: Think of this as a matrix or table with rows and columns\n",
    "arr2d = np.array([[1, 2, 3], \n",
    "                  [4, 5, 6]])\n",
    "\n",
    "# 3D array: Like a stack of 2D arrays - useful for images, time series, etc.\n",
    "arr3d = np.array([[[1, 2], [3, 4]], \n",
    "                  [[5, 6], [7, 8]]])\n",
    "\n",
    "print(\"1D array:\", arr1d)\n",
    "print(\"2D array:\\n\", arr2d)\n",
    "print(\"3D array:\\n\", arr3d)"
   ]
  },
  {
   "cell_type": "code",
   "execution_count": 3,
   "id": "31204e14",
   "metadata": {},
   "outputs": [
    {
     "name": "stdout",
     "output_type": "stream",
     "text": [
      "Zeros array (3x4):\n",
      " [[0. 0. 0. 0.]\n",
      " [0. 0. 0. 0.]\n",
      " [0. 0. 0. 0.]]\n",
      "Ones array shape: (2, 3, 4)\n",
      "Empty array (contains random values):\n",
      " [[0. 0.]\n",
      " [0. 0.]]\n"
     ]
    }
   ],
   "source": [
    "# Creating arrays filled with zeros - useful for initializing arrays\n",
    "# Shape (3, 4) means 3 rows and 4 columns\n",
    "zeros = np.zeros((3, 4))          \n",
    "\n",
    "# Creating arrays filled with ones - often used as starting points\n",
    "ones = np.ones((2, 3, 4))         # 3D array: 2 layers, 3 rows, 4 columns\n",
    "\n",
    "# Empty array - faster than zeros/ones but contains random values\n",
    "# Use when you'll immediately fill the array with real data\n",
    "empty = np.empty((2, 2))          \n",
    "\n",
    "print(\"Zeros array (3x4):\\n\", zeros)\n",
    "print(\"Ones array shape:\", ones.shape)\n",
    "print(\"Empty array (contains random values):\\n\", empty)"
   ]
  },
  {
   "cell_type": "code",
   "execution_count": 4,
   "id": "ff0595bd",
   "metadata": {},
   "outputs": [
    {
     "name": "stdout",
     "output_type": "stream",
     "text": [
      "Range array: [0 2 4 6 8]\n",
      "Linspace array: [0.   0.25 0.5  0.75 1.  ]\n",
      "Logspace array: [  1.      3.162  10.     31.623 100.   ]\n"
     ]
    }
   ],
   "source": [
    "# Range arrays - like Python's range() but more powerful\n",
    "range_arr = np.arange(0, 10, 2)   # Start, stop, step: [0, 2, 4, 6, 8]\n",
    "print(\"Range array:\", range_arr)\n",
    "\n",
    "# Linearly spaced arrays - divide a range into equal parts\n",
    "# From 0 to 1 with exactly 5 points (including endpoints)\n",
    "linspace_arr = np.linspace(0, 1, 5)  \n",
    "print(\"Linspace array:\", linspace_arr)\n",
    "\n",
    "# Logarithmically spaced arrays - useful for scientific data\n",
    "# From 10^0 to 10^2 (1 to 100) with 5 points\n",
    "logspace_arr = np.logspace(0, 2, 5)  \n",
    "print(\"Logspace array:\", logspace_arr)"
   ]
  },
  {
   "cell_type": "code",
   "execution_count": 5,
   "id": "f7de85b5",
   "metadata": {},
   "outputs": [
    {
     "name": "stdout",
     "output_type": "stream",
     "text": [
      "Identity matrix:\n",
      " [[1. 0. 0. 0.]\n",
      " [0. 1. 0. 0.]\n",
      " [0. 0. 1. 0.]\n",
      " [0. 0. 0. 1.]]\n",
      "Diagonal matrix:\n",
      " [[1 0 0 0]\n",
      " [0 2 0 0]\n",
      " [0 0 3 0]\n",
      " [0 0 0 4]]\n",
      "Full array (filled with 7):\n",
      " [[7 7 7]\n",
      " [7 7 7]\n",
      " [7 7 7]]\n"
     ]
    }
   ],
   "source": [
    "# Identity matrix - diagonal of ones, zeros elsewhere\n",
    "# Essential for linear algebra operations\n",
    "identity = np.eye(4)              # 4x4 identity matrix\n",
    "\n",
    "# Diagonal matrix - put values on the diagonal\n",
    "diagonal = np.diag([1, 2, 3, 4])  \n",
    "\n",
    "# Array filled with a specific value\n",
    "full_arr = np.full((3, 3), 7)     # 3x3 array filled with 7\n",
    "\n",
    "print(\"Identity matrix:\\n\", identity)\n",
    "print(\"Diagonal matrix:\\n\", diagonal)\n",
    "print(\"Full array (filled with 7):\\n\", full_arr)"
   ]
  },
  {
   "cell_type": "code",
   "execution_count": 6,
   "id": "d9ce3237",
   "metadata": {},
   "outputs": [
    {
     "name": "stdout",
     "output_type": "stream",
     "text": [
      "Integer array dtype: int32\n",
      "Float array dtype: float64\n",
      "Boolean array dtype: bool\n",
      "Converted array dtype: float32\n",
      "int32 uses 4 bytes per element\n",
      "float64 uses 8 bytes per element\n"
     ]
    }
   ],
   "source": [
    "# Explicit data types - control memory usage and precision\n",
    "int_arr = np.array([1, 2, 3], dtype=np.int32)       # 32-bit integers\n",
    "float_arr = np.array([1, 2, 3], dtype=np.float64)   # 64-bit floats (double precision)\n",
    "bool_arr = np.array([True, False, True], dtype=np.bool_)  # Boolean values\n",
    "\n",
    "# Type conversion - change dtype of existing array\n",
    "converted = int_arr.astype(np.float32)  # Convert to 32-bit float\n",
    "\n",
    "print(\"Integer array dtype:\", int_arr.dtype)\n",
    "print(\"Float array dtype:\", float_arr.dtype)\n",
    "print(\"Boolean array dtype:\", bool_arr.dtype)\n",
    "print(\"Converted array dtype:\", converted.dtype)\n",
    "\n",
    "# Memory usage comparison\n",
    "print(f\"int32 uses {int_arr.itemsize} bytes per element\")\n",
    "print(f\"float64 uses {float_arr.itemsize} bytes per element\")"
   ]
  },
  {
   "cell_type": "code",
   "execution_count": 7,
   "id": "226006fd",
   "metadata": {},
   "outputs": [
    {
     "name": "stdout",
     "output_type": "stream",
     "text": [
      "Shape: (3, 4, 5)\n",
      "Size: 60\n",
      "Ndim: 3\n",
      "Dtype: float64\n",
      "Itemsize: 8\n",
      "Memory usage: 480 bytes\n",
      "Memory usage: 0.46875 KB\n"
     ]
    }
   ],
   "source": [
    "# Create a sample 3D array for demonstration\n",
    "# Think of this as 3 layers, each with 4 rows and 5 columns\n",
    "arr = np.random.randn(3, 4, 5)\n",
    "\n",
    "# Shape: The dimensions of the array (layers, rows, columns)\n",
    "print(\"Shape:\", arr.shape)           # Output: (3, 4, 5)\n",
    "\n",
    "# Size: Total number of elements (3 × 4 × 5 = 60)\n",
    "print(\"Size:\", arr.size)             \n",
    "\n",
    "# Ndim: Number of dimensions (3D in this case)\n",
    "print(\"Ndim:\", arr.ndim)             \n",
    "\n",
    "# Dtype: Data type of elements\n",
    "print(\"Dtype:\", arr.dtype)           # Usually float64 for random numbers\n",
    "\n",
    "# Itemsize: Memory size of each element in bytes\n",
    "print(\"Itemsize:\", arr.itemsize)     # 8 bytes for float64\n",
    "\n",
    "# Total memory usage in bytes\n",
    "print(\"Memory usage:\", arr.nbytes, \"bytes\")  # size × itemsize\n",
    "print(\"Memory usage:\", arr.nbytes / 1024, \"KB\")  # Convert to KB"
   ]
  },
  {
   "cell_type": "code",
   "execution_count": 8,
   "id": "fde9165d",
   "metadata": {},
   "outputs": [
    {
     "name": "stdout",
     "output_type": "stream",
     "text": [
      "First element: 10\n",
      "Last element: 50\n",
      "Slice [1:4]: [20 30 40]\n",
      "Every 2nd element: [10 30 50]\n"
     ]
    }
   ],
   "source": [
    "# 1D array indexing - similar to Python lists\n",
    "arr1d = np.array([10, 20, 30, 40, 50])\n",
    "\n",
    "print(\"First element:\", arr1d[0])     # Index 0: 10\n",
    "print(\"Last element:\", arr1d[-1])     # Negative indexing: 50  \n",
    "print(\"Slice [1:4]:\", arr1d[1:4])     # Elements 1, 2, 3: [20, 30, 40]\n",
    "print(\"Every 2nd element:\", arr1d[::2])  # Step of 2: [10, 30, 50]"
   ]
  },
  {
   "cell_type": "code",
   "execution_count": 9,
   "id": "79993ad8",
   "metadata": {},
   "outputs": [
    {
     "name": "stdout",
     "output_type": "stream",
     "text": [
      "Element at row 1, column 2: 7\n",
      "First row: [1 2 3 4]\n",
      "Second column: [ 2  6 10]\n",
      "Subarray (rows 1-2, cols 1-2):\n",
      " [[ 6  7]\n",
      " [10 11]]\n"
     ]
    }
   ],
   "source": [
    "# 2D array indexing - row and column access\n",
    "arr2d = np.array([[1, 2, 3, 4],\n",
    "                  [5, 6, 7, 8],\n",
    "                  [9, 10, 11, 12]])\n",
    "\n",
    "# Access specific element: [row, column]\n",
    "print(\"Element at row 1, column 2:\", arr2d[1, 2])        # 7\n",
    "\n",
    "# Access entire rows or columns\n",
    "print(\"First row:\", arr2d[0, :])               # All columns of row 0\n",
    "print(\"Second column:\", arr2d[:, 1])           # All rows of column 1\n",
    "\n",
    "# Subarray slicing: [row_start:row_end, col_start:col_end]\n",
    "print(\"Subarray (rows 1-2, cols 1-2):\\n\", arr2d[1:3, 1:3])"
   ]
  },
  {
   "cell_type": "code",
   "execution_count": 10,
   "id": "c8c2855f",
   "metadata": {},
   "outputs": [
    {
     "name": "stdout",
     "output_type": "stream",
     "text": [
      "Fancy indexing: [10 30 50]\n",
      "Random order: [50 20 40 20]\n"
     ]
    }
   ],
   "source": [
    "# Fancy indexing - use arrays of indices to select elements\n",
    "arr = np.array([10, 20, 30, 40, 50])\n",
    "indices = np.array([0, 2, 4])  # Select elements at positions 0, 2, 4\n",
    "print(\"Fancy indexing:\", arr[indices])         # [10, 30, 50]\n",
    "\n",
    "# This is much more flexible than simple slicing\n",
    "random_indices = np.array([4, 1, 3, 1])  # Can repeat and reorder\n",
    "print(\"Random order:\", arr[random_indices])   # [50, 20, 40, 20]"
   ]
  },
  {
   "cell_type": "code",
   "execution_count": null,
   "id": "166c2a5a",
   "metadata": {},
   "outputs": [
    {
     "name": "stdout",
     "output_type": "stream",
     "text": [
      "Original 1D array: [ 0  1  2  3  4  5  6  7  8  9 10 11]\n"
     ]
    }
   ],
   "source": [
    "# Start with a 1D array\n",
    "arr = np.arange(12)  # [0, 1, 2, 3, 4, 5, 6, 7, 8, 9, 10, 11]\n",
    "print(\"Original 1D array:\",arr)"
   ]
  },
  {
   "cell_type": "code",
   "execution_count": 15,
   "id": "bff34081",
   "metadata": {},
   "outputs": [
    {
     "name": "stdout",
     "output_type": "stream",
     "text": [
      "Reshaped to 3x4:\n",
      " [[ 0  1  2  3]\n",
      " [ 4  5  6  7]\n",
      " [ 8  9 10 11]]\n"
     ]
    }
   ],
   "source": [
    "# Reshape to 2D: 3 rows x 4 columns\n",
    "reshaped_2d = arr.reshape(3, 4)\n",
    "print(\"Reshaped to 3x4:\\n\", reshaped_2d)"
   ]
  },
  {
   "cell_type": "code",
   "execution_count": 16,
   "id": "b11f692c",
   "metadata": {},
   "outputs": [
    {
     "name": "stdout",
     "output_type": "stream",
     "text": [
      "Reshaped to 2x2x3:\n",
      " [[[ 0  1  2]\n",
      "  [ 3  4  5]]\n",
      "\n",
      " [[ 6  7  8]\n",
      "  [ 9 10 11]]]\n"
     ]
    }
   ],
   "source": [
    "reshaped_3d = arr.reshape(2, 2, 3)\n",
    "print(\"Reshaped to 2x2x3:\\n\", reshaped_3d)"
   ]
  },
  {
   "cell_type": "code",
   "execution_count": 17,
   "id": "6eb30052",
   "metadata": {},
   "outputs": [
    {
     "name": "stdout",
     "output_type": "stream",
     "text": [
      "Auto-reshaped to 4x?:\n",
      " [[ 0  1  2]\n",
      " [ 3  4  5]\n",
      " [ 6  7  8]\n",
      " [ 9 10 11]]\n"
     ]
    }
   ],
   "source": [
    "auto_reshape = arr.reshape(4, -1)\n",
    "print(\"Auto-reshaped to 4x?:\\n\", auto_reshape)"
   ]
  },
  {
   "cell_type": "code",
   "execution_count": null,
   "id": "4ae30473",
   "metadata": {},
   "outputs": [
    {
     "name": "stdout",
     "output_type": "stream",
     "text": [
      "Flattened (copy): [1 2 3 4 5 6]\n"
     ]
    }
   ],
   "source": [
    "arr2d = np.array([[1, 2, 3], [4, 5, 6]]) # multi-dimensional array To 1D \n",
    "flattened = arr2d.flatten()\n",
    "print(\"Flattened (copy):\", flattened)"
   ]
  },
  {
   "cell_type": "code",
   "execution_count": 19,
   "id": "7a4228cc",
   "metadata": {},
   "outputs": [
    {
     "name": "stdout",
     "output_type": "stream",
     "text": [
      "Ravel (view if possible): [1 2 3 4 5 6]\n"
     ]
    }
   ],
   "source": [
    "ravel = arr2d.ravel()\n",
    "print(\"Ravel (view if possible):\", ravel)"
   ]
  },
  {
   "cell_type": "code",
   "execution_count": 20,
   "id": "8da2a5c4",
   "metadata": {},
   "outputs": [
    {
     "name": "stdout",
     "output_type": "stream",
     "text": [
      "After modifying original:\n",
      "Flattened (unchanged): [1 2 3 4 5 6]\n",
      "Ravel (changed): [999   2   3   4   5   6]\n"
     ]
    }
   ],
   "source": [
    "arr2d[0, 0] = 999\n",
    "print(\"After modifying original:\")\n",
    "print(\"Flattened (unchanged):\", flattened)\n",
    "print(\"Ravel (changed):\", ravel)"
   ]
  },
  {
   "cell_type": "code",
   "execution_count": 22,
   "id": "859d5110",
   "metadata": {},
   "outputs": [
    {
     "name": "stdout",
     "output_type": "stream",
     "text": [
      "Original shape: (2, 3)\n",
      "Original: \n",
      " [[1 2 3]\n",
      " [4 5 6]]\n",
      "Transposed shape: (3, 2)\n",
      "Transposed:\n",
      " [[1 4]\n",
      " [2 5]\n",
      " [3 6]]\n",
      "Transpose method:\n",
      " [[1 4]\n",
      " [2 5]\n",
      " [3 6]]\n"
     ]
    }
   ],
   "source": [
    "arr2d = np.array([[1, 2, 3], \n",
    "                  [4, 5, 6]])\n",
    "print(\"Original shape:\", arr2d.shape)\n",
    "print(\"Original: \\n\", arr2d)\n",
    "\n",
    "print(\"Transposed shape:\", arr2d.T.shape)\n",
    "print(\"Transposed:\\n\", arr2d.T)\n",
    "\n",
    "print(\"Transpose method:\\n\", arr2d.transpose())\n",
    "#print(\"Transpose method:\\n\", arr2d.transpose())"
   ]
  },
  {
   "cell_type": "code",
   "execution_count": 28,
   "id": "b0c17afc",
   "metadata": {},
   "outputs": [
    {
     "name": "stdout",
     "output_type": "stream",
     "text": [
      "Original 3D shape: (2, 3, 4)\n",
      "Transposed 3D shape: (4, 2, 3)\n"
     ]
    }
   ],
   "source": [
    "arr3d = np.arange(24).reshape(2, 3, 4)\n",
    "print(\"Original 3D shape:\", arr3d.shape)\n",
    "\n",
    "transposed_3d = arr3d.transpose(2, 0, 1) # axis order from(0, 1, 2) to (2, 0, 1)\n",
    "print(\"Transposed 3D shape:\", transposed_3d.shape)"
   ]
  },
  {
   "cell_type": "code",
   "execution_count": 29,
   "id": "b9f25308",
   "metadata": {},
   "outputs": [
    {
     "name": "stdout",
     "output_type": "stream",
     "text": [
      "Moveaxis result shape: (3, 4, 2)\n"
     ]
    }
   ],
   "source": [
    "moved = np.moveaxis(arr3d, 0, -1)  # Move first axis to last position\n",
    "print(\"Moveaxis result shape:\", moved.shape)"
   ]
  },
  {
   "cell_type": "code",
   "execution_count": null,
   "id": "daff1d9a",
   "metadata": {},
   "outputs": [
    {
     "name": "stdout",
     "output_type": "stream",
     "text": [
      "Original arrays:\n",
      "Array 1:\n",
      " [[1 2]\n",
      " [3 4]]\n",
      "Array 2:\n",
      " [[5 6]\n",
      " [7 8]]\n",
      "Concatenated vertically (axis=0):\n",
      " [[1 2]\n",
      " [3 4]\n",
      " [5 6]\n",
      " [7 8]]\n",
      "Concatenated horizontally (axis=1):\n",
      " [[1 2 5 6]\n",
      " [3 4 7 8]]\n"
     ]
    }
   ],
   "source": [
    "arr1 = np.array([[1, 2], [3, 4]])\n",
    "arr2 = np.array([[5, 6], [7, 8]])\n",
    "\n",
    "concat_rows = np.concatenate([arr1, arr2], axis=0)   # Stack vertically (add rows)\n",
    "concat_cols = np.concatenate([arr1, arr2], axis=1)   # Stack horizontally (add columns)\n",
    "\n",
    "print(\"Original arrays:\")\n",
    "print(\"Array 1:\\n\", arr1)\n",
    "print(\"Array 2:\\n\", arr2)\n",
    "print(\"Concatenated vertically (axis=0):\\n\", concat_rows)\n",
    "print(\"Concatenated horizontally (axis=1):\\n\", concat_cols)"
   ]
  },
  {
   "cell_type": "code",
   "execution_count": 32,
   "id": "3d9fa272",
   "metadata": {},
   "outputs": [
    {
     "name": "stdout",
     "output_type": "stream",
     "text": [
      "vstack (vertical):\n",
      " [[1 2]\n",
      " [3 4]\n",
      " [5 6]\n",
      " [7 8]]\n",
      "hstack (horizontal):\n",
      " [[1 2 5 6]\n",
      " [3 4 7 8]]\n",
      "dstack shape: (2, 2, 2)\n",
      "Original array for splitting:\n",
      " [[ 0  1  2  3]\n",
      " [ 4  5  6  7]\n",
      " [ 8  9 10 11]]\n",
      "Split into 3 parts along rows:\n",
      "Part 0:\n",
      " [[0 1 2 3]]\n",
      "Part 1:\n",
      " [[4 5 6 7]]\n",
      "Part 2:\n",
      " [[ 8  9 10 11]]\n"
     ]
    }
   ],
   "source": [
    "vstack_result = np.vstack([arr1, arr2])   # Same as concatenate with axis=0\n",
    "hstack_result = np.hstack([arr1, arr2])   # Same as concatenate with axis=1\n",
    "dstack_result = np.dstack([arr1, arr2])   # Stack along depth (3rd dimension)\n",
    "\n",
    "print(\"vstack (vertical):\\n\", vstack_result)\n",
    "print(\"hstack (horizontal):\\n\", hstack_result)\n",
    "print(\"dstack shape:\", dstack_result.shape)   # Creates 3D array\n",
    "\n",
    "# Splitting arrays - opposite of concatenation\n",
    "arr = np.arange(12).reshape(3, 4)\n",
    "split_arrays = np.split(arr, 3, axis=0)    # Split into 3 parts along rows\n",
    "\n",
    "print(\"Original array for splitting:\\n\", arr)\n",
    "print(\"Split into 3 parts along rows:\")\n",
    "for i, split_part in enumerate(split_arrays):\n",
    "    print(f\"Part {i}:\\n\", split_part)\n",
    "\n"
   ]
  },
  {
   "cell_type": "code",
   "execution_count": 33,
   "id": "968882d9",
   "metadata": {},
   "outputs": [
    {
     "name": "stdout",
     "output_type": "stream",
     "text": [
      "Array 1: [1 2 3 4]\n",
      "Array 2: [10 20 30 40]\n",
      "Addition: [11 22 33 44]\n",
      "Subtraction: [ 9 18 27 36]\n",
      "Multiplication: [ 10  40  90 160]\n",
      "Division: [10. 10. 10. 10.]\n",
      "Power: [ 1  4  9 16]\n",
      "Modulo: [1 2 0 1]\n"
     ]
    }
   ],
   "source": [
    "# Basic arithmetic operations work element-by-element\n",
    "arr1 = np.array([1, 2, 3, 4])\n",
    "arr2 = np.array([10, 20, 30, 40])\n",
    "\n",
    "print(\"Array 1:\", arr1)\n",
    "print(\"Array 2:\", arr2)\n",
    "\n",
    "# All operations happen element-wise automatically\n",
    "print(\"Addition:\", arr1 + arr2)               # [11, 22, 33, 44]\n",
    "print(\"Subtraction:\", arr2 - arr1)            # [9, 18, 27, 36]\n",
    "print(\"Multiplication:\", arr1 * arr2)         # [10, 40, 90, 160]\n",
    "print(\"Division:\", arr2 / arr1)               # [10, 10, 10, 10]\n",
    "print(\"Power:\", arr1 ** 2)                    # [1, 4, 9, 16]\n",
    "print(\"Modulo:\", arr2 % 3)                    # [1, 2, 0, 1]"
   ]
  },
  {
   "cell_type": "code",
   "execution_count": 34,
   "id": "c1b93c44",
   "metadata": {},
   "outputs": [
    {
     "name": "stdout",
     "output_type": "stream",
     "text": [
      "Scalar operations:\n",
      "Add 10 to all elements: [11 12 13 14]\n",
      "Multiply all by 3: [ 3  6  9 12]\n",
      "Divide all by 2: [0.5 1.  1.5 2. ]\n",
      "Compound operation (arr1 + 5) * 2 - 1: [11 13 15 17]\n"
     ]
    }
   ],
   "source": [
    "# Operations with scalars - broadcasting in action\n",
    "print(\"Scalar operations:\")\n",
    "print(\"Add 10 to all elements:\", arr1 + 10)          # [11, 12, 13, 14]\n",
    "print(\"Multiply all by 3:\", arr1 * 3)               # [3, 6, 9, 12]\n",
    "print(\"Divide all by 2:\", arr1 / 2)                 # [0.5, 1, 1.5, 2]\n",
    "\n",
    "# Compound operations\n",
    "result = (arr1 + 5) * 2 - 1                         # ((arr1 + 5) * 2) - 1\n",
    "print(\"Compound operation (arr1 + 5) * 2 - 1:\", result)"
   ]
  },
  {
   "cell_type": "code",
   "execution_count": 35,
   "id": "f43447de",
   "metadata": {},
   "outputs": [
    {
     "name": "stdout",
     "output_type": "stream",
     "text": [
      "Original array: [ 1  4  9 16 25]\n",
      "Square root: [1. 2. 3. 4. 5.]\n",
      "Square: [  1  16  81 256 625]\n",
      "Cube root: [1.    1.587 2.08  2.52  2.924]\n",
      "Exponential: [ 2.718  7.389 20.086]\n",
      "Natural log: [0.    1.386 2.197 2.773 3.219]\n",
      "Log base 10: [0.    0.602 0.954 1.204 1.398]\n",
      "Log base 2: [0.    2.    3.17  4.    4.644]\n"
     ]
    }
   ],
   "source": [
    "# Common mathematical functions\n",
    "arr = np.array([1, 4, 9, 16, 25])\n",
    "print(\"Original array:\", arr)\n",
    "\n",
    "# Square roots and powers\n",
    "print(\"Square root:\", np.sqrt(arr))           # [1, 2, 3, 4, 5]\n",
    "print(\"Square:\", np.square(arr))              # [1, 16, 81, 256, 625]\n",
    "print(\"Cube root:\", np.cbrt(arr))\n",
    "\n",
    "# Exponential and logarithmic functions\n",
    "small_arr = np.array([1, 2, 3])\n",
    "print(\"Exponential:\", np.exp(small_arr))      # [e^1, e^2, e^3]\n",
    "print(\"Natural log:\", np.log(arr))            # ln(arr)\n",
    "print(\"Log base 10:\", np.log10(arr))\n",
    "print(\"Log base 2:\", np.log2(arr))"
   ]
  },
  {
   "cell_type": "code",
   "execution_count": 36,
   "id": "147c953e",
   "metadata": {},
   "outputs": [
    {
     "name": "stdout",
     "output_type": "stream",
     "text": [
      "Angles (radians): [0.    0.785 1.571 3.142]\n",
      "Sine: [0.    0.707 1.    0.   ]\n",
      "Cosine: [ 1.     0.707  0.    -1.   ]\n",
      "Tangent: [ 0.000e+00  1.000e+00  1.633e+16 -1.225e-16]\n",
      "Degrees to radians: [0.    0.785 1.571 3.142]\n"
     ]
    }
   ],
   "source": [
    "# Trigonometric functions - essential for signal processing and geometry\n",
    "angles = np.array([0, np.pi/4, np.pi/2, np.pi])\n",
    "print(\"Angles (radians):\", angles)\n",
    "print(\"Sine:\", np.sin(angles))                # [0, √2/2, 1, 0]\n",
    "print(\"Cosine:\", np.cos(angles))              # [1, √2/2, 0, -1]\n",
    "print(\"Tangent:\", np.tan(angles))             # [0, 1, ∞, 0]\n",
    "\n",
    "# Convert degrees to radians\n",
    "degrees = np.array([0, 45, 90, 180])\n",
    "radians = np.deg2rad(degrees)\n",
    "print(\"Degrees to radians:\", radians)"
   ]
  },
  {
   "cell_type": "code",
   "execution_count": 37,
   "id": "353106cc",
   "metadata": {},
   "outputs": [
    {
     "name": "stdout",
     "output_type": "stream",
     "text": [
      "Original decimals: [ 1.234  5.678  9.999 -2.345]\n",
      "Round to 2 places: [ 1.23  5.68 10.   -2.35]\n",
      "Floor (round down): [ 1.  5.  9. -3.]\n",
      "Ceiling (round up): [ 2.  6. 10. -2.]\n",
      "Truncate (toward zero): [ 1.  5.  9. -2.]\n",
      "Absolute values: [1.234 5.678 9.999 2.345]\n",
      "Sign (-1, 0, or 1): [ 1.  1.  1. -1.]\n"
     ]
    }
   ],
   "source": [
    "# Rounding and comparison functions\n",
    "decimals = np.array([1.234, 5.678, 9.999, -2.345])\n",
    "print(\"Original decimals:\", decimals)\n",
    "\n",
    "print(\"Round to 2 places:\", np.round(decimals, 2))\n",
    "print(\"Floor (round down):\", np.floor(decimals))     # [1, 5, 9, -3]\n",
    "print(\"Ceiling (round up):\", np.ceil(decimals))      # [2, 6, 10, -2]\n",
    "print(\"Truncate (toward zero):\", np.trunc(decimals)) # [1, 5, 9, -2]\n",
    "\n",
    "# Absolute values and sign\n",
    "print(\"Absolute values:\", np.abs(decimals))\n",
    "print(\"Sign (-1, 0, or 1):\", np.sign(decimals))"
   ]
  },
  {
   "cell_type": "code",
   "execution_count": 38,
   "id": "45993e76",
   "metadata": {},
   "outputs": [
    {
     "name": "stdout",
     "output_type": "stream",
     "text": [
      "Sample array:\n",
      " [[1 2 3]\n",
      " [4 5 6]\n",
      " [7 8 9]]\n",
      "Sum of all elements: 45\n",
      "Mean of all elements: 5.0\n",
      "Standard deviation: 2.581988897471611\n",
      "Minimum value: 1\n",
      "Maximum value: 9\n"
     ]
    }
   ],
   "source": [
    "# Create a 2D array for demonstration\n",
    "arr = np.array([[1, 2, 3], \n",
    "                [4, 5, 6], \n",
    "                [7, 8, 9]])\n",
    "print(\"Sample array:\\n\", arr)\n",
    "\n",
    "# Aggregation across entire array\n",
    "print(\"Sum of all elements:\", np.sum(arr))        # 45\n",
    "print(\"Mean of all elements:\", np.mean(arr))      # 5.0\n",
    "print(\"Standard deviation:\", np.std(arr))         # 2.58\n",
    "print(\"Minimum value:\", np.min(arr))              # 1\n",
    "print(\"Maximum value:\", np.max(arr))              # 9"
   ]
  },
  {
   "cell_type": "code",
   "execution_count": 39,
   "id": "237f5ae2",
   "metadata": {},
   "outputs": [
    {
     "name": "stdout",
     "output_type": "stream",
     "text": [
      "Sum along axis 0 (columns): [12 15 18]\n",
      "Sum along axis 1 (rows): [ 6 15 24]\n",
      "Mean along axis 0: [4. 5. 6.]\n",
      "Mean along axis 1: [2. 5. 8.]\n"
     ]
    }
   ],
   "source": [
    "# Axis-specific aggregation - this is where NumPy shines!\n",
    "print(\"Sum along axis 0 (columns):\", np.sum(arr, axis=0))  # [12, 15, 18]\n",
    "print(\"Sum along axis 1 (rows):\", np.sum(arr, axis=1))     # [6, 15, 24]\n",
    "\n",
    "print(\"Mean along axis 0:\", np.mean(arr, axis=0))          # [4, 5, 6]\n",
    "print(\"Mean along axis 1:\", np.mean(arr, axis=1))          # [2, 5, 8]\n"
   ]
  },
  {
   "cell_type": "code",
   "execution_count": 40,
   "id": "2adae61a",
   "metadata": {},
   "outputs": [
    {
     "name": "stdout",
     "output_type": "stream",
     "text": [
      "Position of max (flattened): 8\n",
      "Position of max along axis 0: [2 2 2]\n",
      "Position of max along axis 1: [2 2 2]\n"
     ]
    }
   ],
   "source": [
    "# Finding positions of extreme values\n",
    "print(\"Position of max (flattened):\", np.argmax(arr))      # 8 (element 9 at position 8)\n",
    "print(\"Position of max along axis 0:\", np.argmax(arr, axis=0))  # [2, 2, 2]\n",
    "print(\"Position of max along axis 1:\", np.argmax(arr, axis=1))  # [2, 2, 2]"
   ]
  },
  {
   "cell_type": "code",
   "execution_count": 41,
   "id": "12259380",
   "metadata": {},
   "outputs": [
    {
     "name": "stdout",
     "output_type": "stream",
     "text": [
      "Scalar: 5\n",
      "1D array: [1 2 3 4]\n",
      "2D array (column vector):\n",
      " [[10]\n",
      " [20]\n",
      " [30]]\n",
      "Scalar + 1D array: [6 7 8 9]\n",
      "2D + 1D broadcasting:\n",
      " [[11 12 13 14]\n",
      " [21 22 23 24]\n",
      " [31 32 33 34]]\n"
     ]
    }
   ],
   "source": [
    "# Broadcasting examples - arrays don't need the same shape!\n",
    "scalar = 5\n",
    "arr1d = np.array([1, 2, 3, 4])\n",
    "arr2d = np.array([[10], [20], [30]])  # Column vector\n",
    "\n",
    "print(\"Scalar:\", scalar)\n",
    "print(\"1D array:\", arr1d)  \n",
    "print(\"2D array (column vector):\\n\", arr2d)\n",
    "\n",
    "# Scalar broadcasts to any shape\n",
    "result1 = scalar + arr1d\n",
    "print(\"Scalar + 1D array:\", result1)         # [6, 7, 8, 9]\n",
    "\n",
    "# 2D + 1D broadcasting\n",
    "result2 = arr2d + arr1d\n",
    "print(\"2D + 1D broadcasting:\\n\", result2)"
   ]
  },
  {
   "cell_type": "code",
   "execution_count": 42,
   "id": "6228ae2c",
   "metadata": {},
   "outputs": [
    {
     "name": "stdout",
     "output_type": "stream",
     "text": [
      "Array a (4x1):\n",
      " [[0]\n",
      " [1]\n",
      " [2]\n",
      " [3]]\n",
      "Array b (1x5):\n",
      " [[0 1 2 3 4]]\n",
      "Broadcasting result (4x5):\n",
      " [[0 1 2 3 4]\n",
      " [1 2 3 4 5]\n",
      " [2 3 4 5 6]\n",
      " [3 4 5 6 7]]\n",
      "Result shape: (4, 5)\n"
     ]
    }
   ],
   "source": [
    "# Visualizing broadcasting step by step\n",
    "a = np.arange(4).reshape(4, 1)                # Shape: (4, 1)\n",
    "b = np.arange(5).reshape(1, 5)                # Shape: (1, 5)\n",
    "\n",
    "print(\"Array a (4x1):\\n\", a)\n",
    "print(\"Array b (1x5):\\n\", b)\n",
    "\n",
    "# Broadcasting creates a 4x5 result\n",
    "result = a + b                                # Result shape: (4, 5)\n",
    "print(\"Broadcasting result (4x5):\\n\", result)\n",
    "print(\"Result shape:\", result.shape)"
   ]
  },
  {
   "cell_type": "code",
   "execution_count": 43,
   "id": "05b75ebf",
   "metadata": {},
   "outputs": [
    {
     "name": "stdout",
     "output_type": "stream",
     "text": [
      "Original array shape: (3,)\n",
      "Column vector shape: (3, 1)\n",
      "Column vector:\n",
      " [[1]\n",
      " [2]\n",
      " [3]]\n",
      "Row vector shape: (1, 3)\n"
     ]
    }
   ],
   "source": [
    "# Manual broadcasting with newaxis\n",
    "arr = np.array([1, 2, 3])\n",
    "print(\"Original array shape:\", arr.shape)           # (3,)\n",
    "\n",
    "# Convert to column vector\n",
    "column_vector = arr[:, np.newaxis]                  # Same as arr.reshape(-1, 1)\n",
    "print(\"Column vector shape:\", column_vector.shape)   # (3, 1)\n",
    "print(\"Column vector:\\n\", column_vector)\n",
    "\n",
    "# Convert to row vector (usually not needed - 1D arrays broadcast as rows)\n",
    "row_vector = arr[np.newaxis, :]                     # Same as arr.reshape(1, -1)\n",
    "print(\"Row vector shape:\", row_vector.shape)        # (1, 3)"
   ]
  },
  {
   "cell_type": "code",
   "execution_count": 44,
   "id": "d75b58e5",
   "metadata": {},
   "outputs": [
    {
     "name": "stdout",
     "output_type": "stream",
     "text": [
      "Original data shape: (5, 3)\n",
      "Original data:\n",
      " [[ 1.148  0.825 -2.004]\n",
      " [ 0.971  0.368  0.64 ]\n",
      " [ 0.456  1.306 -1.284]\n",
      " [ 0.327 -1.304  0.986]\n",
      " [ 1.137 -0.962 -1.294]]\n"
     ]
    }
   ],
   "source": [
    " #Pattern 1: Centering data (subtract mean from each column)\n",
    "data = np.random.randn(5, 3)  # 5 samples, 3 features\n",
    "print(\"Original data shape:\", data.shape)\n",
    "print(\"Original data:\\n\", data)"
   ]
  },
  {
   "cell_type": "code",
   "execution_count": 45,
   "id": "fe0477dd",
   "metadata": {},
   "outputs": [
    {
     "name": "stdout",
     "output_type": "stream",
     "text": [
      "Column means: [ 0.808  0.047 -0.591]\n"
     ]
    }
   ],
   "source": [
    " # Calculate mean for each column\n",
    "column_means = np.mean(data, axis=0)              # Shape: (3,)\n",
    "print(\"Column means:\", column_means)"
   ]
  },
  {
   "cell_type": "code",
   "execution_count": 47,
   "id": "f192f936",
   "metadata": {},
   "outputs": [
    {
     "name": "stdout",
     "output_type": "stream",
     "text": [
      "Row means: [-0.011  0.66   0.159  0.003 -0.373]\n"
     ]
    }
   ],
   "source": [
    " # Calculate mean for each column\n",
    "row_means = np.mean(data, axis=1)              # Shape: (3,)\n",
    "print(\"Row means:\", row_means)"
   ]
  },
  {
   "cell_type": "code",
   "execution_count": 48,
   "id": "aa2eda38",
   "metadata": {},
   "outputs": [
    {
     "name": "stdout",
     "output_type": "stream",
     "text": [
      "Centered data:\n",
      " [[ 0.34   0.778 -1.413]\n",
      " [ 0.163  0.322  1.231]\n",
      " [-0.352  1.259 -0.693]\n",
      " [-0.48  -1.35   1.577]\n",
      " [ 0.329 -1.009 -0.703]]\n",
      "New column means (should be ~0): [0. 0. 0.]\n"
     ]
    }
   ],
   "source": [
    "# Subtract mean from each column (broadcasting!)\n",
    "centered_data = data - column_means              # (5,3) - (3,) broadcasts\n",
    "print(\"Centered data:\\n\", centered_data)\n",
    "print(\"New column means (should be ~0):\", np.mean(centered_data, axis=0))"
   ]
  },
  {
   "cell_type": "code",
   "execution_count": 50,
   "id": "1375020d",
   "metadata": {},
   "outputs": [
    {
     "name": "stdout",
     "output_type": "stream",
     "text": [
      "Random data:\n",
      " [[0.378 0.264 0.47 ]\n",
      " [0.038 0.443 0.237]\n",
      " [0.013 0.707 0.694]\n",
      " [0.617 0.497 0.865]]\n",
      "Row sums shape: (4, 1)\n",
      "Row sums:\n",
      " [[1.112]\n",
      " [0.718]\n",
      " [1.413]\n",
      " [1.979]]\n",
      "Normalized data (rows sum to 1):\n",
      " [[0.339 0.238 0.423]\n",
      " [0.053 0.618 0.33 ]\n",
      " [0.009 0.5   0.491]\n",
      " [0.312 0.251 0.437]]\n",
      "Row sums after normalization: [1. 1. 1. 1.]\n"
     ]
    }
   ],
   "source": [
    "# Pattern 2: Normalizing by row sums (useful for probabilities)\n",
    "data = np.random.rand(4, 3)  # Random data\n",
    "print(\"Random data:\\n\", data)\n",
    "\n",
    "# Calculate row sums\n",
    "row_sums = np.sum(data, axis=1, keepdims=True)    # Shape: (4, 1), keepdims preserve dimension as size 1, making broadcasting explicit and avoiding shape error\n",
    "print(\"Row sums shape:\", row_sums.shape)\n",
    "print(\"Row sums:\\n\", row_sums)\n",
    "\n",
    "# Normalize each row to sum to 1\n",
    "normalized = data / row_sums                      # (4,3) / (4,1) broadcasts\n",
    "print(\"Normalized data (rows sum to 1):\\n\", normalized)\n",
    "print(\"Row sums after normalization:\", np.sum(normalized, axis=1))"
   ]
  }
 ],
 "metadata": {
  "kernelspec": {
   "display_name": "a_env",
   "language": "python",
   "name": "python3"
  },
  "language_info": {
   "codemirror_mode": {
    "name": "ipython",
    "version": 3
   },
   "file_extension": ".py",
   "mimetype": "text/x-python",
   "name": "python",
   "nbconvert_exporter": "python",
   "pygments_lexer": "ipython3",
   "version": "3.13.6"
  }
 },
 "nbformat": 4,
 "nbformat_minor": 5
}
